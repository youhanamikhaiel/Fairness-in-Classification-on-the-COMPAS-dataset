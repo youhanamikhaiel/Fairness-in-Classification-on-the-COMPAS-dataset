{
  "nbformat": 4,
  "nbformat_minor": 0,
  "metadata": {
    "colab": {
      "name": "DA Project.ipynb",
      "provenance": [],
      "collapsed_sections": [
        "gyxnEvwBxxL0",
        "HpbkBTFG0s7n",
        "IY9jZvWW4U2f",
        "odzx6bAjfofh",
        "nYFaCNhmEc3j",
        "slXdwfAevXyB",
        "ZdvBoe8avkG9",
        "AEO_MNSGw1Ah",
        "LDLYdFhsw7l1",
        "p42-RpP1y_jo",
        "-ARvQosbBSKz",
        "0pDZiqdBMs1s",
        "Hs_Ko02mNdO4",
        "bbmp4p5mObRZ"
      ]
    },
    "kernelspec": {
      "name": "python3",
      "display_name": "Python 3"
    }
  },
  "cells": [
    {
      "cell_type": "markdown",
      "metadata": {
        "id": "6Hb_Xp4JZlr2",
        "colab_type": "text"
      },
      "source": [
        "<h4 align=\"right\"> May 2020</h4>\n",
        "<h1 align=\"center\">Into to Data Analysis Final Project</h1>\n",
        "<h2 align=\"center\">Fairness in Classification on the COMPAS dataset</h2> <br>\n",
        "\n",
        "**Team members:** \\\\\n",
        "Christophe EL-ZEINATY \\\\\n",
        "Youhana MIKHAIEL"
      ]
    },
    {
      "cell_type": "markdown",
      "metadata": {
        "id": "W1w3rbHOPjeV",
        "colab_type": "text"
      },
      "source": [
        "##(1) Utils"
      ]
    },
    {
      "cell_type": "markdown",
      "metadata": {
        "id": "gyxnEvwBxxL0",
        "colab_type": "text"
      },
      "source": [
        "###Imports"
      ]
    },
    {
      "cell_type": "code",
      "metadata": {
        "id": "qpBw9omUxorq",
        "colab_type": "code",
        "outputId": "15dff8d2-dc2f-45af-c6a3-45cbe90faa0e",
        "colab": {
          "base_uri": "https://localhost:8080/",
          "height": 0
        }
      },
      "source": [
        "import urllib\n",
        "import os,sys\n",
        "import numpy as np\n",
        "import pandas as pd\n",
        "import matplotlib.pyplot as plt\n",
        "from datetime import date\n",
        "import math\n",
        "from scipy import interp\n",
        "from itertools import cycle\n",
        "from statistics import mean\n",
        "import time\n",
        "\n",
        "from sklearn.model_selection import train_test_split\n",
        "from sklearn.metrics import roc_curve, auc\n",
        "from sklearn import feature_extraction\n",
        "from sklearn import preprocessing\n",
        "from sklearn.neighbors import KNeighborsClassifier\n",
        "from sklearn.svm import SVC\n",
        "from sklearn.tree import DecisionTreeClassifier\n",
        "from sklearn.linear_model import LogisticRegression\n",
        "from sklearn.preprocessing import StandardScaler\n",
        "from sklearn.metrics import accuracy_score\n",
        "\n",
        "from tensorflow.keras.layers import Dense, Dropout\n",
        "from tensorflow.keras.optimizers import Adam\n",
        "from tensorflow.keras.models import Model, Sequential\n",
        "\n",
        "from random import seed, shuffle\n",
        "#from __future__ import division\n",
        "#from collections import defaultdict\n",
        "#import utils as ut\n",
        "\n",
        "!pip install 'aif360[all]'\n",
        "\n",
        "import aif360.datasets as ad\n",
        "from aif360.metrics import BinaryLabelDatasetMetric, ClassificationMetric\n",
        "from aif360.algorithms.preprocessing import Reweighing\n",
        "from aif360.algorithms.postprocessing.reject_option_classification import RejectOptionClassification"
      ],
      "execution_count": 1,
      "outputs": [
        {
          "output_type": "stream",
          "text": [
            "Requirement already satisfied: aif360[all] in /usr/local/lib/python3.6/dist-packages (0.2.3)\n",
            "\u001b[33m  WARNING: aif360 0.2.3 does not provide the extra 'all'\u001b[0m\n",
            "Requirement already satisfied: scikit-learn in /usr/local/lib/python3.6/dist-packages (from aif360[all]) (0.22.2.post1)\n",
            "Requirement already satisfied: pandas>=0.23.3 in /usr/local/lib/python3.6/dist-packages (from aif360[all]) (1.0.3)\n",
            "Requirement already satisfied: scipy in /usr/local/lib/python3.6/dist-packages (from aif360[all]) (1.4.1)\n",
            "Requirement already satisfied: numpy>=1.16 in /usr/local/lib/python3.6/dist-packages (from aif360[all]) (1.18.3)\n",
            "Requirement already satisfied: joblib>=0.11 in /usr/local/lib/python3.6/dist-packages (from scikit-learn->aif360[all]) (0.14.1)\n",
            "Requirement already satisfied: python-dateutil>=2.6.1 in /usr/local/lib/python3.6/dist-packages (from pandas>=0.23.3->aif360[all]) (2.8.1)\n",
            "Requirement already satisfied: pytz>=2017.2 in /usr/local/lib/python3.6/dist-packages (from pandas>=0.23.3->aif360[all]) (2018.9)\n",
            "Requirement already satisfied: six>=1.5 in /usr/local/lib/python3.6/dist-packages (from python-dateutil>=2.6.1->pandas>=0.23.3->aif360[all]) (1.12.0)\n"
          ],
          "name": "stdout"
        }
      ]
    },
    {
      "cell_type": "markdown",
      "metadata": {
        "id": "HpbkBTFG0s7n",
        "colab_type": "text"
      },
      "source": [
        "###Helper functions"
      ]
    },
    {
      "cell_type": "code",
      "metadata": {
        "id": "gxxBxeAKsJy-",
        "colab_type": "code",
        "colab": {}
      },
      "source": [
        "#To get unique values in certain attribute\n",
        "def get_unique(data,att):\n",
        "  column_values = data[att].values.ravel()\n",
        "  unique_values =  pd.unique(column_values)\n",
        "  return unique_values\n",
        "\n",
        "#compute number of days between two string dates (yyyy-mm-dd)\n",
        "def compute_num_days(s1,s2):\n",
        "  date1 = date(int(s1[0:4]),int(s1[5:7]),int(s1[8:10]))\n",
        "  date2 = date(int(s2[0:4]),int(s2[5:7]),int(s2[8:10]))\n",
        "  delta = date2-date1\n",
        "  return delta.days\n",
        "\n",
        "#returns number of days between two date attributes in dataframe (c_jail_in,c_jail_out)\n",
        "def compute_days_series(data):\n",
        "  num_days = []\n",
        "  for i in range(data.shape[0]):\n",
        "    s1 = data[\"c_jail_in\"].iloc[i]\n",
        "    s2 = data[\"c_jail_out\"].iloc[i]\n",
        "    if type(s1) is str and type(s2) is str:\n",
        "      num_days = num_days + [compute_num_days(s1,s2)]\n",
        "    else:\n",
        "      num_days = num_days + [None]\n",
        "  return num_days\n",
        "\n",
        "#Encode categorical data to one-hot encoding scheme\n",
        "def enc_cat_attr(data2,col):\n",
        "  attr_values = get_unique(data2,col)\n",
        "  if len(attr_values) > 2:\n",
        "    for i in attr_values:\n",
        "      data2[col+'_'+str(i)] = data2[col] == i\n",
        "    data2 = data2.drop([col],axis=1)\n",
        "  else:\n",
        "    enc = preprocessing.LabelEncoder()\n",
        "    data2[col] = enc.fit_transform(data2[col])\n",
        "  data_cols = []\n",
        "  for i in data2.columns:\n",
        "    if i != 'two_year_recid':\n",
        "      data_cols = data_cols + [i]\n",
        "  data_cols = data_cols + ['two_year_recid']\n",
        "  return data2[data_cols]\n",
        "\n",
        "#plot acc and loss during training MLP\n",
        "def plot_acc(history):\n",
        "  acc = history.history['accuracy']\n",
        "  loss = history.history['loss']\n",
        "  val_acc = history.history['val_accuracy']\n",
        "  val_loss = history.history['val_loss']\n",
        "  no_epochs = len(history.history['loss'])\n",
        "\n",
        "  plt.figure(figsize=(11,3))\n",
        "  plt.subplot(121)\n",
        "  plt.plot(range(1,no_epochs+1),loss)\n",
        "  plt.plot(range(1,no_epochs+1),val_loss)\n",
        "  plt.xlabel(\"Number of epochs\")\n",
        "  plt.ylabel(\"Loss\")\n",
        "  plt.legend(['train loss','val loss'])\n",
        "  plt.subplot(122)\n",
        "  plt.plot(range(1,no_epochs+1),acc)\n",
        "  plt.plot(range(1,no_epochs+1),val_acc)\n",
        "  plt.xlabel(\"Number of epochs\")\n",
        "  plt.ylabel(\"Accuracy\")\n",
        "  plt.legend(['train acc','val acc'])\n",
        "\n",
        "#compute Accuracies and False Positive Rates FPR for each race\n",
        "def compute_fpr(ypred,ytest):\n",
        "  n_total = ypred.shape[0]\n",
        "  corr = np.count_nonzero(ypred == ytest)\n",
        "  acc = corr/n_total\n",
        "  n_total_test_neg = np.count_nonzero(ytest == 0)\n",
        "  if n_total_test_neg == 0:\n",
        "    fpr = float('nan')\n",
        "  else:\n",
        "    fp = np.count_nonzero((ypred == 1) & (ytest == 0))\n",
        "    fpr = fp/n_total_test_neg\n",
        "  return acc, fpr\n",
        "\n",
        "#Reject Option Classification function\n",
        "def ROC_postprocess(dataset_train,dataset_valid,dataset_test,model,unpriv,priv):\n",
        "  pos_ind = np.where(model.classes_ == dataset_train.favorable_label)[0][0]\n",
        "  xvalid_data = dataset_valid.features\n",
        "  yvalid_data = dataset_valid.labels\n",
        "\n",
        "  xtest_data = dataset_test.features\n",
        "  ytest_data = dataset_test.labels\n",
        "\n",
        "  dataset_valid_pred = dataset_valid.copy(deepcopy=True)\n",
        "  y_valid = dataset_valid_pred.labels\n",
        "  dataset_valid_pred.scores = model.predict_proba(xvalid_data)[:,pos_ind].reshape(-1,1)\n",
        "\n",
        "  dataset_test_pred = dataset_test.copy(deepcopy=True)\n",
        "  y_test = dataset_test_pred.labels\n",
        "  dataset_test_pred.scores = model.predict_proba(xtest_data)[:,pos_ind].reshape(-1,1)\n",
        "\n",
        "  num_thresh = 100\n",
        "  ba_arr = np.zeros(num_thresh)\n",
        "  class_thresh_arr = np.linspace(0.01, 0.99, num_thresh)\n",
        "\n",
        "  for idx, class_thresh in enumerate(class_thresh_arr):\n",
        "    fav_inds = dataset_valid_pred.scores > class_thresh\n",
        "    dataset_valid_pred.labels[fav_inds] = dataset_valid_pred.favorable_label\n",
        "    dataset_valid_pred.labels[~fav_inds] = dataset_valid_pred.unfavorable_label\n",
        "    classified_metric_orig_valid = ClassificationMetric(dataset_valid, dataset_valid_pred, unprivileged_groups=unpriv, privileged_groups=priv)\n",
        "    ba_arr[idx] = 0.5*(classified_metric_orig_valid.true_positive_rate() + classified_metric_orig_valid.true_negative_rate())\n",
        "\n",
        "  best_ind = np.where(ba_arr == np.max(ba_arr))[0][0]\n",
        "  best_class_thresh = class_thresh_arr[best_ind]\n",
        "\n",
        "  #print(\"Best balanced accuracy (no fairness constraints) = %.4f\" % np.max(ba_arr))\n",
        "  #print(\"Optimal classification threshold (no fairness constraints) = %.4f\" % best_class_thresh)\n",
        "\n",
        "  # Metric used to measure fairness\n",
        "  metric_name = \"Statistical parity difference\"\n",
        "\n",
        "  # Upper and lower bound on the fairness metric used\n",
        "  metric_ub = 0.05\n",
        "  metric_lb = -0.05\n",
        "\n",
        "  ROC = RejectOptionClassification(unprivileged_groups=unpriv,privileged_groups=priv,low_class_thresh=0.01, high_class_thresh=0.99,num_class_thresh=100, \n",
        "                                   num_ROC_margin=50,metric_name=metric_name,metric_ub=metric_ub, metric_lb=metric_lb)\n",
        "  ROC = ROC.fit(dataset_valid, dataset_valid_pred)\n",
        "  #print(\"Optimal classification threshold (with fairness constraints) = %.4f\" % ROC.classification_threshold)\n",
        "  return ROC, dataset_valid_pred\n",
        "\n",
        "def draw_roc(ypred,ytest,xtest):\n",
        "  ypred = ypred.reshape((-1,1))\n",
        "  ytest = ytest.reshape((-1,1))\n",
        "  args_priv = np.argwhere(xtest[:,1]==1)\n",
        "  args_unpriv = np.argwhere(xtest[:,1]==0)\n",
        "  ypred_priv = ypred[args_priv].reshape((-1,1))\n",
        "  ypred_unpriv = ypred[args_unpriv].reshape((-1,1))\n",
        "  ytest_priv = ytest[args_priv].reshape((-1,1))\n",
        "  ytest_unpriv = ytest[args_unpriv].reshape((-1,1))\n",
        "  fpr_priv, tpr_priv, thre_priv = roc_curve(ytest_priv, ypred_priv)\n",
        "  fpr_unpriv, tpr_unpriv, thre_unpriv = roc_curve(ytest_unpriv, ypred_unpriv)\n",
        "  plt.plot(fpr_priv,tpr_priv)\n",
        "  plt.plot(fpr_unpriv,tpr_unpriv)\n",
        "  plt.plot([0, 1], [0, 1], 'k--', lw=2)\n",
        "  plt.legend(['Caucasian privilied roc curve','Non-Caucasian unprivilied roc curve','Random roc curve'])\n",
        "  plt.xlabel('FPR')\n",
        "  plt.ylabel('TPR')\n",
        "  plt.title('ROC curves of priviliged and unpriviliged groups')\n",
        "  plt.show()\n"
      ],
      "execution_count": 0,
      "outputs": []
    },
    {
      "cell_type": "markdown",
      "metadata": {
        "id": "IY9jZvWW4U2f",
        "colab_type": "text"
      },
      "source": [
        "###Download data"
      ]
    },
    {
      "cell_type": "code",
      "metadata": {
        "id": "Fo_RnBQC4EuK",
        "colab_type": "code",
        "outputId": "e1cdfccf-577e-4b23-e01e-2aaa700793be",
        "colab": {
          "base_uri": "https://localhost:8080/",
          "height": 0
        }
      },
      "source": [
        "SEED = 1234\n",
        "seed(SEED)\n",
        "np.random.seed(SEED)\n",
        "\n",
        "def check_data_file(fname):\n",
        "    files = os.listdir(\".\") # get the current directory listing\n",
        "    print(\"Looking for file '%s' in the current directory...\",fname)\n",
        "\n",
        "    if fname not in files:\n",
        "        print(\"'%s' not found! Downloading from GitHub...\",fname)\n",
        "        addr = \"https://raw.githubusercontent.com/propublica/compas-analysis/master/compas-scores-two-years.csv\"\n",
        "        response = urllib.request.urlopen(addr)\n",
        "        data = response.read()\n",
        "        fileOut = open(fname, \"wb\")\n",
        "        fileOut.write(data)\n",
        "        fileOut.close()\n",
        "        print(\"'%s' download and saved locally..\",fname)\n",
        "    else:\n",
        "        print(\"File found in current directory..\")\n",
        "    \n",
        "COMPAS_INPUT_FILE = \"compas-scores-two-years.csv\"\n",
        "check_data_file(COMPAS_INPUT_FILE)  "
      ],
      "execution_count": 3,
      "outputs": [
        {
          "output_type": "stream",
          "text": [
            "Looking for file '%s' in the current directory... compas-scores-two-years.csv\n",
            "File found in current directory..\n"
          ],
          "name": "stdout"
        }
      ]
    },
    {
      "cell_type": "markdown",
      "metadata": {
        "id": "nYFaCNhmEc3j",
        "colab_type": "text"
      },
      "source": [
        "## (2) Dataset Preprocessing & Cleaning"
      ]
    },
    {
      "cell_type": "markdown",
      "metadata": {
        "id": "slXdwfAevXyB",
        "colab_type": "text"
      },
      "source": [
        "###Importing data & viewing NULL values statistics\n",
        "We first see that the dataset has 7214 instances with 53 columns. \\\\\n",
        "After that, we print how much NULLs each column has in percentage."
      ]
    },
    {
      "cell_type": "code",
      "metadata": {
        "id": "njKShFfL4b6h",
        "colab_type": "code",
        "outputId": "0d16c6c6-5b22-4372-cd57-47de468e57b0",
        "colab": {
          "base_uri": "https://localhost:8080/",
          "height": 1000
        }
      },
      "source": [
        "#Import data\n",
        "data = pd.read_csv(COMPAS_INPUT_FILE)\n",
        "\n",
        "#Display dataset size\n",
        "data_size = data.shape\n",
        "print(\"The dataset has %d columns and %d instances\" %(data_size[1],data_size[0]))\n",
        "\n",
        "#Get information about number of NULLs in each feature\n",
        "print(\"Percentage of NULLs in each feature has: \")\n",
        "data_nulls = data.isnull().sum()/data_size[0]\n",
        "print(data_nulls)"
      ],
      "execution_count": 4,
      "outputs": [
        {
          "output_type": "stream",
          "text": [
            "The dataset has 53 columns and 7214 instances\n",
            "Percentage of NULLs in each feature has: \n",
            "id                         0.000000\n",
            "name                       0.000000\n",
            "first                      0.000000\n",
            "last                       0.000000\n",
            "compas_screening_date      0.000000\n",
            "sex                        0.000000\n",
            "dob                        0.000000\n",
            "age                        0.000000\n",
            "age_cat                    0.000000\n",
            "race                       0.000000\n",
            "juv_fel_count              0.000000\n",
            "decile_score               0.000000\n",
            "juv_misd_count             0.000000\n",
            "juv_other_count            0.000000\n",
            "priors_count               0.000000\n",
            "days_b_screening_arrest    0.042556\n",
            "c_jail_in                  0.042556\n",
            "c_jail_out                 0.042556\n",
            "c_case_number              0.003050\n",
            "c_offense_date             0.160660\n",
            "c_arrest_date              0.842390\n",
            "c_days_from_compas         0.003050\n",
            "c_charge_degree            0.000000\n",
            "c_charge_desc              0.004020\n",
            "is_recid                   0.000000\n",
            "r_case_number              0.518852\n",
            "r_charge_degree            0.518852\n",
            "r_days_from_arrest         0.678958\n",
            "r_offense_date             0.518852\n",
            "r_charge_desc              0.526892\n",
            "r_jail_in                  0.678958\n",
            "r_jail_out                 0.678958\n",
            "violent_recid              1.000000\n",
            "is_violent_recid           0.000000\n",
            "vr_case_number             0.886471\n",
            "vr_charge_degree           0.886471\n",
            "vr_offense_date            0.886471\n",
            "vr_charge_desc             0.886471\n",
            "type_of_assessment         0.000000\n",
            "decile_score.1             0.000000\n",
            "score_text                 0.000000\n",
            "screening_date             0.000000\n",
            "v_type_of_assessment       0.000000\n",
            "v_decile_score             0.000000\n",
            "v_score_text               0.000000\n",
            "v_screening_date           0.000000\n",
            "in_custody                 0.032714\n",
            "out_custody                0.032714\n",
            "priors_count.1             0.000000\n",
            "start                      0.000000\n",
            "end                        0.000000\n",
            "event                      0.000000\n",
            "two_year_recid             0.000000\n",
            "dtype: float64\n"
          ],
          "name": "stdout"
        }
      ]
    },
    {
      "cell_type": "markdown",
      "metadata": {
        "id": "ZdvBoe8avkG9",
        "colab_type": "text"
      },
      "source": [
        "###Dropping bad columns and/or bad instances\n",
        "1. Dropping columns which has more than 0.5 of its instance values as NULL \\\\\n",
        "2. Copying scores columns and then dropping them from the dataset \\\\\n",
        "3. Copying two_year_recid label column \\\\\n",
        "4. Dropping duplicate columns (decile_score, priors_count) \\\\\n",
        "5. Dropping irrelevant columns to the training setup (id,name,is_recid,dob,c_case_number....etc) \\\\\n",
        "\n",
        "After doing this, we can see that our dataset now has 11 columns (10 features and 1 label) with the same number of 7214 instances. Then we re-print the how much NULLs each column has in percentage. \\\\\n",
        "We can see that there are two attributes still have missing values (c_jail_in, c_jail_out). \n"
      ]
    },
    {
      "cell_type": "code",
      "metadata": {
        "id": "DUHB5c8gXSnu",
        "colab_type": "code",
        "outputId": "3d264203-8b27-44ca-c55f-e0f01565d392",
        "colab": {
          "base_uri": "https://localhost:8080/",
          "height": 251
        }
      },
      "source": [
        "#Drop column features that has many NULLs\n",
        "data_original = data1.copy()\n",
        "\n",
        "#dropping features that more than 50% of them are NULL\n",
        "for i in data_nulls.keys():\n",
        "  if data_nulls[i] > 0.5:\n",
        "    data = data.drop(i,axis=1)\n",
        "\n",
        "#extracting scores columns separately and dropping them from main dataframe\n",
        "c_scores = data[[\"decile_score\",\"score_text\",\"v_decile_score\",\"v_score_text\"]]\n",
        "data = data.drop([\"decile_score\",\"score_text\",\"v_decile_score\",\"v_score_text\"],axis=1)\n",
        "\n",
        "#extracting labels column separately and drop it from main dataframe\n",
        "y_labels = data[\"two_year_recid\"]\n",
        "#data = data.drop([\"two_year_recid\"],axis=1)\n",
        "\n",
        "#Removing duplicated attribute columns\n",
        "data = data.drop([\"decile_score.1\",\"priors_count.1\",\"is_recid\"],axis=1)\n",
        "\n",
        "#dropping features that are not important for the classification task\n",
        "data = data.drop([\"id\",\"name\",\"first\",\"last\",\"dob\",\"age\",\"c_case_number\",\"v_screening_date\", \"v_type_of_assessment\",\"type_of_assessment\",\n",
        "                  \"compas_screening_date\",\"days_b_screening_arrest\",\"is_violent_recid\",\"c_charge_desc\",\"screening_date\",\"in_custody\",\n",
        "                  \"out_custody\",\"start\",\"end\",\"event\",\"c_offense_date\",\"c_days_from_compas\"],axis=1)\n",
        "\n",
        "data_size = data.shape\n",
        "print(\"The dataset has %d columns and %d instances\" %(data_size[1],data_size[0]))\n",
        "data_nulls = data.isnull().sum()/data_size[0]\n",
        "print(data_nulls)"
      ],
      "execution_count": 5,
      "outputs": [
        {
          "output_type": "stream",
          "text": [
            "The dataset has 11 columns and 7214 instances\n",
            "sex                0.000000\n",
            "age_cat            0.000000\n",
            "race               0.000000\n",
            "juv_fel_count      0.000000\n",
            "juv_misd_count     0.000000\n",
            "juv_other_count    0.000000\n",
            "priors_count       0.000000\n",
            "c_jail_in          0.042556\n",
            "c_jail_out         0.042556\n",
            "c_charge_degree    0.000000\n",
            "two_year_recid     0.000000\n",
            "dtype: float64\n"
          ],
          "name": "stdout"
        }
      ]
    },
    {
      "cell_type": "code",
      "metadata": {
        "id": "IXMX3AXxjSQM",
        "colab_type": "code",
        "outputId": "2d3de864-4354-4af6-ac5a-7574641980d2",
        "colab": {
          "base_uri": "https://localhost:8080/",
          "height": 272
        }
      },
      "source": [
        "data.head()"
      ],
      "execution_count": 6,
      "outputs": [
        {
          "output_type": "execute_result",
          "data": {
            "text/html": [
              "<div>\n",
              "<style scoped>\n",
              "    .dataframe tbody tr th:only-of-type {\n",
              "        vertical-align: middle;\n",
              "    }\n",
              "\n",
              "    .dataframe tbody tr th {\n",
              "        vertical-align: top;\n",
              "    }\n",
              "\n",
              "    .dataframe thead th {\n",
              "        text-align: right;\n",
              "    }\n",
              "</style>\n",
              "<table border=\"1\" class=\"dataframe\">\n",
              "  <thead>\n",
              "    <tr style=\"text-align: right;\">\n",
              "      <th></th>\n",
              "      <th>sex</th>\n",
              "      <th>age_cat</th>\n",
              "      <th>race</th>\n",
              "      <th>juv_fel_count</th>\n",
              "      <th>juv_misd_count</th>\n",
              "      <th>juv_other_count</th>\n",
              "      <th>priors_count</th>\n",
              "      <th>c_jail_in</th>\n",
              "      <th>c_jail_out</th>\n",
              "      <th>c_charge_degree</th>\n",
              "      <th>two_year_recid</th>\n",
              "    </tr>\n",
              "  </thead>\n",
              "  <tbody>\n",
              "    <tr>\n",
              "      <th>0</th>\n",
              "      <td>Male</td>\n",
              "      <td>Greater than 45</td>\n",
              "      <td>Other</td>\n",
              "      <td>0</td>\n",
              "      <td>0</td>\n",
              "      <td>0</td>\n",
              "      <td>0</td>\n",
              "      <td>2013-08-13 06:03:42</td>\n",
              "      <td>2013-08-14 05:41:20</td>\n",
              "      <td>F</td>\n",
              "      <td>0</td>\n",
              "    </tr>\n",
              "    <tr>\n",
              "      <th>1</th>\n",
              "      <td>Male</td>\n",
              "      <td>25 - 45</td>\n",
              "      <td>African-American</td>\n",
              "      <td>0</td>\n",
              "      <td>0</td>\n",
              "      <td>0</td>\n",
              "      <td>0</td>\n",
              "      <td>2013-01-26 03:45:27</td>\n",
              "      <td>2013-02-05 05:36:53</td>\n",
              "      <td>F</td>\n",
              "      <td>1</td>\n",
              "    </tr>\n",
              "    <tr>\n",
              "      <th>2</th>\n",
              "      <td>Male</td>\n",
              "      <td>Less than 25</td>\n",
              "      <td>African-American</td>\n",
              "      <td>0</td>\n",
              "      <td>0</td>\n",
              "      <td>1</td>\n",
              "      <td>4</td>\n",
              "      <td>2013-04-13 04:58:34</td>\n",
              "      <td>2013-04-14 07:02:04</td>\n",
              "      <td>F</td>\n",
              "      <td>1</td>\n",
              "    </tr>\n",
              "    <tr>\n",
              "      <th>3</th>\n",
              "      <td>Male</td>\n",
              "      <td>Less than 25</td>\n",
              "      <td>African-American</td>\n",
              "      <td>0</td>\n",
              "      <td>1</td>\n",
              "      <td>0</td>\n",
              "      <td>1</td>\n",
              "      <td>NaN</td>\n",
              "      <td>NaN</td>\n",
              "      <td>F</td>\n",
              "      <td>0</td>\n",
              "    </tr>\n",
              "    <tr>\n",
              "      <th>4</th>\n",
              "      <td>Male</td>\n",
              "      <td>25 - 45</td>\n",
              "      <td>Other</td>\n",
              "      <td>0</td>\n",
              "      <td>0</td>\n",
              "      <td>0</td>\n",
              "      <td>2</td>\n",
              "      <td>NaN</td>\n",
              "      <td>NaN</td>\n",
              "      <td>F</td>\n",
              "      <td>0</td>\n",
              "    </tr>\n",
              "  </tbody>\n",
              "</table>\n",
              "</div>"
            ],
            "text/plain": [
              "    sex          age_cat  ... c_charge_degree  two_year_recid\n",
              "0  Male  Greater than 45  ...               F               0\n",
              "1  Male          25 - 45  ...               F               1\n",
              "2  Male     Less than 25  ...               F               1\n",
              "3  Male     Less than 25  ...               F               0\n",
              "4  Male          25 - 45  ...               F               0\n",
              "\n",
              "[5 rows x 11 columns]"
            ]
          },
          "metadata": {
            "tags": []
          },
          "execution_count": 6
        }
      ]
    },
    {
      "cell_type": "code",
      "metadata": {
        "id": "4qEg4qQKvfO8",
        "colab_type": "code",
        "outputId": "c084da58-e177-4e68-a2ca-1293beed02d2",
        "colab": {
          "base_uri": "https://localhost:8080/",
          "height": 35
        }
      },
      "source": [
        "#dropping instances that have more than 50% of their features are NULL\n",
        "datacc = (data.isnull().sum(axis=1)/data_size[1]) > 0.50\n",
        "datacc2 = dict(filter(lambda el: el[1] == True,datacc.items()))\n",
        "if not len(datacc2):\n",
        "  print(\"No instances were dropped\")"
      ],
      "execution_count": 7,
      "outputs": [
        {
          "output_type": "stream",
          "text": [
            "No instances were dropped\n"
          ],
          "name": "stdout"
        }
      ]
    },
    {
      "cell_type": "markdown",
      "metadata": {
        "id": "AEO_MNSGw1Ah",
        "colab_type": "text"
      },
      "source": [
        "###Manipulating existing features\n",
        "1. We calculate the number of days the person has spent in jail (num_jail_days) from the dates (c_jail_in and c_jail_out) while replacing the NULL instances with NULL. \\\\\n",
        "2. We take the average number of jail days of each class (two_year_recid=0, two_year_recid=1) \\\\\n",
        "3. We change the NULL values in num_jail_days for each instance to have the value of the average of all instances with the same class. \\\\"
      ]
    },
    {
      "cell_type": "code",
      "metadata": {
        "id": "0VhymOTXtmrB",
        "colab_type": "code",
        "colab": {}
      },
      "source": [
        "#adding new attribute corresponds to number of days spent in jail\n",
        "data['num_jail_days'] = pd.Series(compute_days_series(data))\n",
        "\n",
        "#dropping c_jail_in and c_jail_out attributes\n",
        "data = data.drop([\"c_jail_in\",\"c_jail_out\"],axis=1)"
      ],
      "execution_count": 0,
      "outputs": []
    },
    {
      "cell_type": "code",
      "metadata": {
        "id": "O3_HWi0fsdzL",
        "colab_type": "code",
        "outputId": "3284b2e6-7ff5-43ea-dcf9-3317c59f3e72",
        "colab": {
          "base_uri": "https://localhost:8080/",
          "height": 384
        }
      },
      "source": [
        "#Filling in missing data for num_jail_days by averaging those with the same label class\n",
        "mean_days_recid = int(data.loc[data['two_year_recid'] == 1].num_jail_days.mean())\n",
        "mean_days_no_recid = int(data.loc[data['two_year_recid'] == 0].num_jail_days.mean())\n",
        "\n",
        "data['num_jail_days'][(data['num_jail_days'].isnull()) & (data['two_year_recid'] == 1)] = mean_days_recid \n",
        "data['num_jail_days'][(data['num_jail_days'].isnull()) & (data['two_year_recid'] == 0)] = mean_days_no_recid  \n",
        "\n",
        "data_no_encoding = data.copy()\n",
        "\n",
        "data.head()"
      ],
      "execution_count": 9,
      "outputs": [
        {
          "output_type": "stream",
          "text": [
            "/usr/local/lib/python3.6/dist-packages/ipykernel_launcher.py:4: SettingWithCopyWarning: \n",
            "A value is trying to be set on a copy of a slice from a DataFrame\n",
            "\n",
            "See the caveats in the documentation: https://pandas.pydata.org/pandas-docs/stable/user_guide/indexing.html#returning-a-view-versus-a-copy\n",
            "  after removing the cwd from sys.path.\n",
            "/usr/local/lib/python3.6/dist-packages/ipykernel_launcher.py:5: SettingWithCopyWarning: \n",
            "A value is trying to be set on a copy of a slice from a DataFrame\n",
            "\n",
            "See the caveats in the documentation: https://pandas.pydata.org/pandas-docs/stable/user_guide/indexing.html#returning-a-view-versus-a-copy\n",
            "  \"\"\"\n"
          ],
          "name": "stderr"
        },
        {
          "output_type": "execute_result",
          "data": {
            "text/html": [
              "<div>\n",
              "<style scoped>\n",
              "    .dataframe tbody tr th:only-of-type {\n",
              "        vertical-align: middle;\n",
              "    }\n",
              "\n",
              "    .dataframe tbody tr th {\n",
              "        vertical-align: top;\n",
              "    }\n",
              "\n",
              "    .dataframe thead th {\n",
              "        text-align: right;\n",
              "    }\n",
              "</style>\n",
              "<table border=\"1\" class=\"dataframe\">\n",
              "  <thead>\n",
              "    <tr style=\"text-align: right;\">\n",
              "      <th></th>\n",
              "      <th>sex</th>\n",
              "      <th>age_cat</th>\n",
              "      <th>race</th>\n",
              "      <th>juv_fel_count</th>\n",
              "      <th>juv_misd_count</th>\n",
              "      <th>juv_other_count</th>\n",
              "      <th>priors_count</th>\n",
              "      <th>c_charge_degree</th>\n",
              "      <th>two_year_recid</th>\n",
              "      <th>num_jail_days</th>\n",
              "    </tr>\n",
              "  </thead>\n",
              "  <tbody>\n",
              "    <tr>\n",
              "      <th>0</th>\n",
              "      <td>Male</td>\n",
              "      <td>Greater than 45</td>\n",
              "      <td>Other</td>\n",
              "      <td>0</td>\n",
              "      <td>0</td>\n",
              "      <td>0</td>\n",
              "      <td>0</td>\n",
              "      <td>F</td>\n",
              "      <td>0</td>\n",
              "      <td>1.0</td>\n",
              "    </tr>\n",
              "    <tr>\n",
              "      <th>1</th>\n",
              "      <td>Male</td>\n",
              "      <td>25 - 45</td>\n",
              "      <td>African-American</td>\n",
              "      <td>0</td>\n",
              "      <td>0</td>\n",
              "      <td>0</td>\n",
              "      <td>0</td>\n",
              "      <td>F</td>\n",
              "      <td>1</td>\n",
              "      <td>10.0</td>\n",
              "    </tr>\n",
              "    <tr>\n",
              "      <th>2</th>\n",
              "      <td>Male</td>\n",
              "      <td>Less than 25</td>\n",
              "      <td>African-American</td>\n",
              "      <td>0</td>\n",
              "      <td>0</td>\n",
              "      <td>1</td>\n",
              "      <td>4</td>\n",
              "      <td>F</td>\n",
              "      <td>1</td>\n",
              "      <td>1.0</td>\n",
              "    </tr>\n",
              "    <tr>\n",
              "      <th>3</th>\n",
              "      <td>Male</td>\n",
              "      <td>Less than 25</td>\n",
              "      <td>African-American</td>\n",
              "      <td>0</td>\n",
              "      <td>1</td>\n",
              "      <td>0</td>\n",
              "      <td>1</td>\n",
              "      <td>F</td>\n",
              "      <td>0</td>\n",
              "      <td>13.0</td>\n",
              "    </tr>\n",
              "    <tr>\n",
              "      <th>4</th>\n",
              "      <td>Male</td>\n",
              "      <td>25 - 45</td>\n",
              "      <td>Other</td>\n",
              "      <td>0</td>\n",
              "      <td>0</td>\n",
              "      <td>0</td>\n",
              "      <td>2</td>\n",
              "      <td>F</td>\n",
              "      <td>0</td>\n",
              "      <td>13.0</td>\n",
              "    </tr>\n",
              "  </tbody>\n",
              "</table>\n",
              "</div>"
            ],
            "text/plain": [
              "    sex          age_cat  ... two_year_recid  num_jail_days\n",
              "0  Male  Greater than 45  ...              0            1.0\n",
              "1  Male          25 - 45  ...              1           10.0\n",
              "2  Male     Less than 25  ...              1            1.0\n",
              "3  Male     Less than 25  ...              0           13.0\n",
              "4  Male          25 - 45  ...              0           13.0\n",
              "\n",
              "[5 rows x 10 columns]"
            ]
          },
          "metadata": {
            "tags": []
          },
          "execution_count": 9
        }
      ]
    },
    {
      "cell_type": "markdown",
      "metadata": {
        "id": "LDLYdFhsw7l1",
        "colab_type": "text"
      },
      "source": [
        "###Encoding categorical features\n",
        "1. For reasons that we will mention in the analysis part, we decided to have only two race categories (**Caucasian**, **non-Caucasian**) \\\\\n",
        "2. We start encoding the nominal binary attributes (**sex**, **race**, **c_charge_degree**) by assigning 1 to value while assigning 0 to the other value. \\\\\n",
        "3. Then, we encoded the nominal multi-labled attributes (**age_cat**) \\\\\n",
        "4. We divided the continuous attributes into three categories, turning it to categorical attributes. \\\\\n",
        "5. We do one-hot encoding to the multi-labeled attributes resulting in having more attributes (when priors_count categories are 0, 1 and 2, we have three new attributes (**priors_count_0**,**priors_count_1**,**priors_count_2**) and each of these new attributes has the value either 1 or 0 depending if the instance belongs to this attribute category or not). \\\\\n",
        "This happens to these attributes (**priors_count**, **num_jail_days**, **juv_fel_counts**, **juv_misd_counts**, juv_other_counts). \\\\\n",
        "\n",
        "At the end, we have a dataset with 15 features and 7214 instances."
      ]
    },
    {
      "cell_type": "code",
      "metadata": {
        "id": "ZnRfirA2YuFD",
        "colab_type": "code",
        "colab": {
          "base_uri": "https://localhost:8080/",
          "height": 1000
        },
        "outputId": "88d06b89-a6fc-40cd-ce31-e46a0a24ff6a"
      },
      "source": [
        "#encoding nominal data\n",
        "attr_t = {'sex':'Male', 'race':'Caucasian', 'c_charge_degree':'M'}\n",
        "for i in attr_t.keys():\n",
        "  data[i][data[i] != attr_t[i]] = 0\n",
        "  data[i][data[i] == attr_t[i]] = 1\n",
        "\n",
        "#encoding 'priors_count' where n=0 is class 0, n=1,2 is class 1 and n>2 is class 2\n",
        "data['priors_count'][data['priors_count']==0] = 0\n",
        "data['priors_count'][(data['priors_count']>0) & (data['priors_count']<=2)] = 1\n",
        "data['priors_count'][data['priors_count']>2] = 2\n",
        "\n",
        "#encoding 'age_cat' where 'Less than 25' is class 0, '25 - 45' is class 1 and 'Greater than 45' is class 2\n",
        "data['age_cat'][data['age_cat']=='Less than 25'] = 0\n",
        "data['age_cat'][data['age_cat']=='25 - 45'] = 1\n",
        "data['age_cat'][data['age_cat']=='Greater than 45'] = 2\n",
        "\n",
        "#encoding 'num_jail_days' where n>=3 is class 0, n=3:13 is class 1 and n>13 is class 2\n",
        "data['num_jail_days'][data['num_jail_days']<=3] = 0\n",
        "data['num_jail_days'][(data['num_jail_days']>3) & (data['num_jail_days']<=13)] = 1\n",
        "data['num_jail_days'][data['num_jail_days']>13] = 2\n",
        "\n",
        "#encoding 'juv_fel_counts' where n=0 is class 0 and n>0 in class 1\n",
        "data['juv_fel_count'][data['juv_fel_count']==0] = 0\n",
        "data['juv_fel_count'][data['juv_fel_count']>0] = 1\n",
        "\n",
        "#encoding 'juv_misd_counts' where n=0 is class 0 and n>0 in class 1\n",
        "data['juv_misd_count'][data['juv_misd_count']==0] = 0\n",
        "data['juv_misd_count'][data['juv_misd_count']>0] = 1\n",
        "\n",
        "#encoding 'juv_other_counts' where n=0 is class 0 and n>0 in class 1\n",
        "data['juv_other_count'][data['juv_other_count']==0] = 0\n",
        "data['juv_other_count'][data['juv_other_count']>0] = 1\n",
        "\n",
        "#one-hot encode the categorical attributes with cats > 2\n",
        "data = enc_cat_attr(data,'priors_count')\n",
        "data = enc_cat_attr(data,'num_jail_days')\n",
        "data = enc_cat_attr(data,'age_cat')\n",
        "#data = data.drop(['priors_count'],axis=1)\n",
        "\n",
        "#replace boolean with float values\n",
        "data = data.replace([True,False,1,0],[1.0,0.0,1.0,0.0])\n",
        "\n",
        "data.head()"
      ],
      "execution_count": 11,
      "outputs": [
        {
          "output_type": "stream",
          "text": [
            "/usr/local/lib/python3.6/dist-packages/ipykernel_launcher.py:3: SettingWithCopyWarning: \n",
            "A value is trying to be set on a copy of a slice from a DataFrame\n",
            "\n",
            "See the caveats in the documentation: https://pandas.pydata.org/pandas-docs/stable/user_guide/indexing.html#returning-a-view-versus-a-copy\n",
            "  This is separate from the ipykernel package so we can avoid doing imports until\n",
            "/usr/local/lib/python3.6/dist-packages/ipykernel_launcher.py:4: SettingWithCopyWarning: \n",
            "A value is trying to be set on a copy of a slice from a DataFrame\n",
            "\n",
            "See the caveats in the documentation: https://pandas.pydata.org/pandas-docs/stable/user_guide/indexing.html#returning-a-view-versus-a-copy\n",
            "  after removing the cwd from sys.path.\n",
            "/usr/local/lib/python3.6/dist-packages/ipykernel_launcher.py:7: SettingWithCopyWarning: \n",
            "A value is trying to be set on a copy of a slice from a DataFrame\n",
            "\n",
            "See the caveats in the documentation: https://pandas.pydata.org/pandas-docs/stable/user_guide/indexing.html#returning-a-view-versus-a-copy\n",
            "  import sys\n",
            "/usr/local/lib/python3.6/dist-packages/ipykernel_launcher.py:8: SettingWithCopyWarning: \n",
            "A value is trying to be set on a copy of a slice from a DataFrame\n",
            "\n",
            "See the caveats in the documentation: https://pandas.pydata.org/pandas-docs/stable/user_guide/indexing.html#returning-a-view-versus-a-copy\n",
            "  \n",
            "/usr/local/lib/python3.6/dist-packages/ipykernel_launcher.py:9: SettingWithCopyWarning: \n",
            "A value is trying to be set on a copy of a slice from a DataFrame\n",
            "\n",
            "See the caveats in the documentation: https://pandas.pydata.org/pandas-docs/stable/user_guide/indexing.html#returning-a-view-versus-a-copy\n",
            "  if __name__ == '__main__':\n",
            "/usr/local/lib/python3.6/dist-packages/ipykernel_launcher.py:12: SettingWithCopyWarning: \n",
            "A value is trying to be set on a copy of a slice from a DataFrame\n",
            "\n",
            "See the caveats in the documentation: https://pandas.pydata.org/pandas-docs/stable/user_guide/indexing.html#returning-a-view-versus-a-copy\n",
            "  if sys.path[0] == '':\n",
            "/usr/local/lib/python3.6/dist-packages/ipykernel_launcher.py:13: SettingWithCopyWarning: \n",
            "A value is trying to be set on a copy of a slice from a DataFrame\n",
            "\n",
            "See the caveats in the documentation: https://pandas.pydata.org/pandas-docs/stable/user_guide/indexing.html#returning-a-view-versus-a-copy\n",
            "  del sys.path[0]\n",
            "/usr/local/lib/python3.6/dist-packages/ipykernel_launcher.py:14: SettingWithCopyWarning: \n",
            "A value is trying to be set on a copy of a slice from a DataFrame\n",
            "\n",
            "See the caveats in the documentation: https://pandas.pydata.org/pandas-docs/stable/user_guide/indexing.html#returning-a-view-versus-a-copy\n",
            "  \n",
            "/usr/local/lib/python3.6/dist-packages/ipykernel_launcher.py:17: SettingWithCopyWarning: \n",
            "A value is trying to be set on a copy of a slice from a DataFrame\n",
            "\n",
            "See the caveats in the documentation: https://pandas.pydata.org/pandas-docs/stable/user_guide/indexing.html#returning-a-view-versus-a-copy\n",
            "/usr/local/lib/python3.6/dist-packages/ipykernel_launcher.py:18: SettingWithCopyWarning: \n",
            "A value is trying to be set on a copy of a slice from a DataFrame\n",
            "\n",
            "See the caveats in the documentation: https://pandas.pydata.org/pandas-docs/stable/user_guide/indexing.html#returning-a-view-versus-a-copy\n",
            "/usr/local/lib/python3.6/dist-packages/ipykernel_launcher.py:19: SettingWithCopyWarning: \n",
            "A value is trying to be set on a copy of a slice from a DataFrame\n",
            "\n",
            "See the caveats in the documentation: https://pandas.pydata.org/pandas-docs/stable/user_guide/indexing.html#returning-a-view-versus-a-copy\n",
            "/usr/local/lib/python3.6/dist-packages/ipykernel_launcher.py:22: SettingWithCopyWarning: \n",
            "A value is trying to be set on a copy of a slice from a DataFrame\n",
            "\n",
            "See the caveats in the documentation: https://pandas.pydata.org/pandas-docs/stable/user_guide/indexing.html#returning-a-view-versus-a-copy\n",
            "/usr/local/lib/python3.6/dist-packages/ipykernel_launcher.py:23: SettingWithCopyWarning: \n",
            "A value is trying to be set on a copy of a slice from a DataFrame\n",
            "\n",
            "See the caveats in the documentation: https://pandas.pydata.org/pandas-docs/stable/user_guide/indexing.html#returning-a-view-versus-a-copy\n",
            "/usr/local/lib/python3.6/dist-packages/ipykernel_launcher.py:26: SettingWithCopyWarning: \n",
            "A value is trying to be set on a copy of a slice from a DataFrame\n",
            "\n",
            "See the caveats in the documentation: https://pandas.pydata.org/pandas-docs/stable/user_guide/indexing.html#returning-a-view-versus-a-copy\n",
            "/usr/local/lib/python3.6/dist-packages/ipykernel_launcher.py:27: SettingWithCopyWarning: \n",
            "A value is trying to be set on a copy of a slice from a DataFrame\n",
            "\n",
            "See the caveats in the documentation: https://pandas.pydata.org/pandas-docs/stable/user_guide/indexing.html#returning-a-view-versus-a-copy\n",
            "/usr/local/lib/python3.6/dist-packages/ipykernel_launcher.py:30: SettingWithCopyWarning: \n",
            "A value is trying to be set on a copy of a slice from a DataFrame\n",
            "\n",
            "See the caveats in the documentation: https://pandas.pydata.org/pandas-docs/stable/user_guide/indexing.html#returning-a-view-versus-a-copy\n",
            "/usr/local/lib/python3.6/dist-packages/ipykernel_launcher.py:31: SettingWithCopyWarning: \n",
            "A value is trying to be set on a copy of a slice from a DataFrame\n",
            "\n",
            "See the caveats in the documentation: https://pandas.pydata.org/pandas-docs/stable/user_guide/indexing.html#returning-a-view-versus-a-copy\n"
          ],
          "name": "stderr"
        },
        {
          "output_type": "execute_result",
          "data": {
            "text/html": [
              "<div>\n",
              "<style scoped>\n",
              "    .dataframe tbody tr th:only-of-type {\n",
              "        vertical-align: middle;\n",
              "    }\n",
              "\n",
              "    .dataframe tbody tr th {\n",
              "        vertical-align: top;\n",
              "    }\n",
              "\n",
              "    .dataframe thead th {\n",
              "        text-align: right;\n",
              "    }\n",
              "</style>\n",
              "<table border=\"1\" class=\"dataframe\">\n",
              "  <thead>\n",
              "    <tr style=\"text-align: right;\">\n",
              "      <th></th>\n",
              "      <th>sex</th>\n",
              "      <th>race</th>\n",
              "      <th>juv_fel_count</th>\n",
              "      <th>juv_misd_count</th>\n",
              "      <th>juv_other_count</th>\n",
              "      <th>c_charge_degree</th>\n",
              "      <th>priors_count_0</th>\n",
              "      <th>priors_count_2</th>\n",
              "      <th>priors_count_1</th>\n",
              "      <th>num_jail_days_0.0</th>\n",
              "      <th>num_jail_days_1.0</th>\n",
              "      <th>num_jail_days_2.0</th>\n",
              "      <th>age_cat_2</th>\n",
              "      <th>age_cat_1</th>\n",
              "      <th>age_cat_0</th>\n",
              "      <th>two_year_recid</th>\n",
              "    </tr>\n",
              "  </thead>\n",
              "  <tbody>\n",
              "    <tr>\n",
              "      <th>0</th>\n",
              "      <td>1.0</td>\n",
              "      <td>0.0</td>\n",
              "      <td>0.0</td>\n",
              "      <td>0.0</td>\n",
              "      <td>0.0</td>\n",
              "      <td>0.0</td>\n",
              "      <td>1.0</td>\n",
              "      <td>0.0</td>\n",
              "      <td>0.0</td>\n",
              "      <td>1.0</td>\n",
              "      <td>0.0</td>\n",
              "      <td>0.0</td>\n",
              "      <td>1.0</td>\n",
              "      <td>0.0</td>\n",
              "      <td>0.0</td>\n",
              "      <td>0.0</td>\n",
              "    </tr>\n",
              "    <tr>\n",
              "      <th>1</th>\n",
              "      <td>1.0</td>\n",
              "      <td>0.0</td>\n",
              "      <td>0.0</td>\n",
              "      <td>0.0</td>\n",
              "      <td>0.0</td>\n",
              "      <td>0.0</td>\n",
              "      <td>1.0</td>\n",
              "      <td>0.0</td>\n",
              "      <td>0.0</td>\n",
              "      <td>0.0</td>\n",
              "      <td>1.0</td>\n",
              "      <td>0.0</td>\n",
              "      <td>0.0</td>\n",
              "      <td>1.0</td>\n",
              "      <td>0.0</td>\n",
              "      <td>1.0</td>\n",
              "    </tr>\n",
              "    <tr>\n",
              "      <th>2</th>\n",
              "      <td>1.0</td>\n",
              "      <td>0.0</td>\n",
              "      <td>0.0</td>\n",
              "      <td>0.0</td>\n",
              "      <td>1.0</td>\n",
              "      <td>0.0</td>\n",
              "      <td>0.0</td>\n",
              "      <td>1.0</td>\n",
              "      <td>0.0</td>\n",
              "      <td>1.0</td>\n",
              "      <td>0.0</td>\n",
              "      <td>0.0</td>\n",
              "      <td>0.0</td>\n",
              "      <td>0.0</td>\n",
              "      <td>1.0</td>\n",
              "      <td>1.0</td>\n",
              "    </tr>\n",
              "    <tr>\n",
              "      <th>3</th>\n",
              "      <td>1.0</td>\n",
              "      <td>0.0</td>\n",
              "      <td>0.0</td>\n",
              "      <td>1.0</td>\n",
              "      <td>0.0</td>\n",
              "      <td>0.0</td>\n",
              "      <td>0.0</td>\n",
              "      <td>0.0</td>\n",
              "      <td>1.0</td>\n",
              "      <td>0.0</td>\n",
              "      <td>1.0</td>\n",
              "      <td>0.0</td>\n",
              "      <td>0.0</td>\n",
              "      <td>0.0</td>\n",
              "      <td>1.0</td>\n",
              "      <td>0.0</td>\n",
              "    </tr>\n",
              "    <tr>\n",
              "      <th>4</th>\n",
              "      <td>1.0</td>\n",
              "      <td>0.0</td>\n",
              "      <td>0.0</td>\n",
              "      <td>0.0</td>\n",
              "      <td>0.0</td>\n",
              "      <td>0.0</td>\n",
              "      <td>0.0</td>\n",
              "      <td>0.0</td>\n",
              "      <td>1.0</td>\n",
              "      <td>0.0</td>\n",
              "      <td>1.0</td>\n",
              "      <td>0.0</td>\n",
              "      <td>0.0</td>\n",
              "      <td>1.0</td>\n",
              "      <td>0.0</td>\n",
              "      <td>0.0</td>\n",
              "    </tr>\n",
              "  </tbody>\n",
              "</table>\n",
              "</div>"
            ],
            "text/plain": [
              "   sex  race  juv_fel_count  ...  age_cat_1  age_cat_0  two_year_recid\n",
              "0  1.0   0.0            0.0  ...        0.0        0.0             0.0\n",
              "1  1.0   0.0            0.0  ...        1.0        0.0             1.0\n",
              "2  1.0   0.0            0.0  ...        0.0        1.0             1.0\n",
              "3  1.0   0.0            0.0  ...        0.0        1.0             0.0\n",
              "4  1.0   0.0            0.0  ...        1.0        0.0             0.0\n",
              "\n",
              "[5 rows x 16 columns]"
            ]
          },
          "metadata": {
            "tags": []
          },
          "execution_count": 11
        }
      ]
    },
    {
      "cell_type": "markdown",
      "metadata": {
        "id": "p42-RpP1y_jo",
        "colab_type": "text"
      },
      "source": [
        "###Converting the dataset to proper representation"
      ]
    },
    {
      "cell_type": "code",
      "metadata": {
        "id": "dIpEROwjyQS6",
        "colab_type": "code",
        "colab": {}
      },
      "source": [
        "#convert dataset to numpy array\n",
        "data_array = np.array(data)\n",
        "x = data_array[:,:-1]\n",
        "y = data_array[:,-1]\n",
        "\n",
        "#split data into train and test sets\n",
        "xtrain, xtest, ytrain, ytest = train_test_split(x, y, test_size=0.15, random_state=42)\n",
        "\n",
        "#Adding missing dimension to labels\n",
        "ytrain = np.expand_dims(ytrain,axis=1)\n",
        "ytest = np.expand_dims(ytest,axis=1)"
      ],
      "execution_count": 0,
      "outputs": []
    },
    {
      "cell_type": "markdown",
      "metadata": {
        "id": "odzx6bAjfofh",
        "colab_type": "text"
      },
      "source": [
        "##(3) Statistics & Analysis (Basic Investigations)"
      ]
    },
    {
      "cell_type": "code",
      "metadata": {
        "id": "lJieJgJ3jjzS",
        "colab_type": "code",
        "colab": {}
      },
      "source": [
        "#Import data\n",
        "data1 = pd.read_csv(COMPAS_INPUT_FILE)"
      ],
      "execution_count": 0,
      "outputs": []
    },
    {
      "cell_type": "markdown",
      "metadata": {
        "id": "qUpAO6r6Asj1",
        "colab_type": "text"
      },
      "source": [
        "###Race analysis\n",
        "From the basic anaylsis we did on the races in the dataset, we conclude the following: \\\\\n",
        " \n",
        "\n",
        "1. The number of African-Americans is 54% more than Caucasians, we claim that this should introduce one of the unfairness, since the machine learning model is trained on more instances of African-Americans than Caucasians which leads to less generalization for the smaller group.\n",
        "2. Since the number of instances which are Native Americans or Asians are very few, we will ignore talking about them.\n",
        "3. The highest average score given by COMPAS classifier is given to African-Americans. This can happen by either being biased depending on human factor, or the instances for this racial group is not diverse enough that it can generalize to real life.\n",
        "4. The number of African-Americans given decile_scores more than 7 are approximately 3 times more than Caucasians.\n",
        "5. On the other side, the dataset showed that the actual recidivism rate for African-Americans is more than 50% while for Caucasians it is about 39%. This doesn't mean that this should justify the bias but we believe that maybe there were more Caucasians who were supposed to be re-arrested but the police was caring more about recatching African-Americans.\n",
        "6. We can see that the False Positive Rate (FPR) of African-Americans is 0.2 while FPR for Caucasians is 0.09.\n",
        "\n",
        "Since some races are not well represented and the main issue we found was mainly between Caucasians and African-Americans,we decided to have only two races classes (Causcasians and non-Caucasians)."
      ]
    },
    {
      "cell_type": "code",
      "metadata": {
        "id": "m167S6nmBu1N",
        "colab_type": "code",
        "outputId": "228dd21e-565a-4bdd-eb30-2f06a6905139",
        "colab": {
          "base_uri": "https://localhost:8080/",
          "height": 227
        }
      },
      "source": [
        "#Number of people by race\n",
        "histo = data1[\"race\"].value_counts()\n",
        "y = histo.to_numpy()\n",
        "plt.figure(figsize=(10, 3))\n",
        "plt.bar(histo.keys(),y)\n",
        "plt.title(\"Number of people by race\")\n",
        "plt.show()"
      ],
      "execution_count": 14,
      "outputs": [
        {
          "output_type": "display_data",
          "data": {
            "image/png": "[encoded data removed]",
            "text/plain": [
              "<Figure size 720x216 with 1 Axes>"
            ]
          },
          "metadata": {
            "tags": [],
            "needs_background": "light"
          }
        }
      ]
    },
    {
      "cell_type": "code",
      "metadata": {
        "id": "GlJgmIegNsWw",
        "colab_type": "code",
        "outputId": "0bf02762-8204-4016-c2bc-e755c5fce1d7",
        "colab": {
          "base_uri": "https://localhost:8080/",
          "height": 227
        }
      },
      "source": [
        "#Mean of decile_score per race\n",
        "unique_races = data1.race.unique()\n",
        "score_races = []\n",
        "for i in unique_races:\n",
        "  score_races.append(data1.loc[data1['race'] == i].decile_score.mean())\n",
        "\n",
        "plt.figure(figsize=(10, 3))\n",
        "plt.bar(unique_races,score_races)\n",
        "plt.title(\"Mean of decile_score per race\")\n",
        "plt.show()"
      ],
      "execution_count": 18,
      "outputs": [
        {
          "output_type": "display_data",
          "data": {
            "image/png": "[encoded data removed]",
            "text/plain": [
              "<Figure size 720x216 with 1 Axes>"
            ]
          },
          "metadata": {
            "tags": [],
            "needs_background": "light"
          }
        }
      ]
    },
    {
      "cell_type": "code",
      "metadata": {
        "id": "06uYujqcVSCJ",
        "colab_type": "code",
        "outputId": "d43113d5-a64c-460e-d96a-8071a70fae32",
        "colab": {
          "base_uri": "https://localhost:8080/",
          "height": 263
        }
      },
      "source": [
        "#Distribution of decile_score per race\n",
        "unique_races = data1.race.unique()\n",
        "print(\"     Distribution of decile_score per race\")\n",
        "print(\"\")\n",
        "plt.figure(figsize=(20, 3))\n",
        "sp = 0\n",
        "for i in unique_races: \n",
        "  data_series = data1.loc[data1['race'] == i].decile_score\n",
        "  histo = data_series.value_counts()\n",
        "  plt.subplot(161+sp)\n",
        "  plt.bar(histo.keys(),histo.to_numpy())\n",
        "  plt.title(i + \" scores\")\n",
        "  sp+=1"
      ],
      "execution_count": 21,
      "outputs": [
        {
          "output_type": "stream",
          "text": [
            "     Distribution of decile_score per race\n",
            "\n"
          ],
          "name": "stdout"
        },
        {
          "output_type": "display_data",
          "data": {
            "image/png": "[encoded data removed]",
            "text/plain": [
              "<Figure size 1440x216 with 6 Axes>"
            ]
          },
          "metadata": {
            "tags": [],
            "needs_background": "light"
          }
        }
      ]
    },
    {
      "cell_type": "code",
      "metadata": {
        "id": "EDltj4dJ7iTh",
        "colab_type": "code",
        "outputId": "08ca088a-9e93-432d-875f-508d191a82ec",
        "colab": {
          "base_uri": "https://localhost:8080/",
          "height": 308
        }
      },
      "source": [
        "#Recidivism rates by race\n",
        "race_count = data1[\"race\"].value_counts()\n",
        "\n",
        "print(\"   Recidivism rates by race\")\n",
        "print(\"\")\n",
        "plt.figure(figsize=(27, 5))\n",
        "sp=0\n",
        "for i in unique_races:\n",
        "   num_arr = data1[(data1[\"race\"] == i) & (data1['two_year_recid'] == 1)].shape[0]/race_count[i]*100\n",
        "   num_not_arr = data1[(data1[\"race\"] == i) & (data1['two_year_recid'] == 0)].shape[0]/race_count[i]*100\n",
        "   plt.subplot(161+sp)\n",
        "   plt.bar(['Re-arrested','Not re-arrested'],[num_arr,num_not_arr])\n",
        "   plt.title(i + \" arrest rate\")\n",
        "   plt.ylabel(\"percentage\")\n",
        "   sp+=1"
      ],
      "execution_count": 23,
      "outputs": [
        {
          "output_type": "stream",
          "text": [
            "   Recidivism rates by race\n",
            "\n"
          ],
          "name": "stdout"
        },
        {
          "output_type": "display_data",
          "data": {
            "image/png": "[encoded data removed]",
            "text/plain": [
              "<Figure size 1944x360 with 6 Axes>"
            ]
          },
          "metadata": {
            "tags": [],
            "needs_background": "light"
          }
        }
      ]
    },
    {
      "cell_type": "code",
      "metadata": {
        "id": "3CQXkIl4FXbP",
        "colab_type": "code",
        "outputId": "068de3ea-87e3-479a-8366-0e596bbc5241",
        "colab": {
          "base_uri": "https://localhost:8080/",
          "height": 444
        }
      },
      "source": [
        "#COMPAS scores accuracy by race\n",
        "compas_acc_c = []\n",
        "compas_acc_dict = {}\n",
        "for i in unique_races:\n",
        "  compas_correct_p = data1.loc[(data1[\"decile_score\"] > 4) & (data1[\"race\"] == i) & (data1[\"two_year_recid\"] == 1)].shape[0]\n",
        "  compas_correct_n = data1.loc[(data1[\"decile_score\"] <= 4) & (data1[\"race\"] == i) & (data1[\"two_year_recid\"] == 0)].shape[0]\n",
        "  total_n_race = data1.loc[(data1[\"race\"] == i)].shape[0]\n",
        "  comp_acc_c = (compas_correct_p+compas_correct_n)/total_n_race\n",
        "  compas_acc_c = compas_acc_c + [comp_acc_c]\n",
        "  compas_acc_dict[i] = comp_acc_c\n",
        "  print(\"COMPAS scores accuracy for %s is: %.2f%% \" %(i,comp_acc_c*100))\n",
        "\n",
        "plt.figure(figsize=(13, 5))\n",
        "plt.bar(unique_races,compas_acc_c)\n",
        "plt.ylabel(\"percentage %\")\n",
        "plt.title(\"COMPAS scores accuracy by race\")\n",
        "plt.show()"
      ],
      "execution_count": 27,
      "outputs": [
        {
          "output_type": "stream",
          "text": [
            "COMPAS scores accuracy for Other is: 66.58% \n",
            "COMPAS scores accuracy for African-American is: 63.83% \n",
            "COMPAS scores accuracy for Caucasian is: 66.99% \n",
            "COMPAS scores accuracy for Hispanic is: 66.09% \n",
            "COMPAS scores accuracy for Native American is: 77.78% \n",
            "COMPAS scores accuracy for Asian is: 84.38% \n"
          ],
          "name": "stdout"
        },
        {
          "output_type": "display_data",
          "data": {
            "image/png": "[encoded data removed]",
            "text/plain": [
              "<Figure size 936x360 with 1 Axes>"
            ]
          },
          "metadata": {
            "tags": [],
            "needs_background": "light"
          }
        }
      ]
    },
    {
      "cell_type": "code",
      "metadata": {
        "id": "DTXUFDAXZE6Q",
        "colab_type": "code",
        "outputId": "89032b6c-7e12-4de2-fd3e-ffc2a41e1faa",
        "colab": {
          "base_uri": "https://localhost:8080/",
          "height": 125
        }
      },
      "source": [
        "#False positive rates (FPR) for different races\n",
        "compas_fpr_dict = {}\n",
        "for i in unique_races:\n",
        "  fp_compass = data1.loc[(data1[\"decile_score\"] > 4) & (data1[\"race\"] == i) & (data1[\"two_year_recid\"] == 0)].shape[0]\n",
        "  total_n_negatives_compass = data1.loc[(data1[\"two_year_recid\"] == 0)].shape[0]\n",
        "  fpr = fp_compass / total_n_negatives_compass\n",
        "  compas_fpr_dict[i] = fpr\n",
        "  print(\"FPR is: %.2f ------> %s\" %(fpr,i))"
      ],
      "execution_count": 28,
      "outputs": [
        {
          "output_type": "stream",
          "text": [
            "FPR is: 0.01 ------> Other\n",
            "FPR is: 0.20 ------> African-American\n",
            "FPR is: 0.09 ------> Caucasian\n",
            "FPR is: 0.02 ------> Hispanic\n",
            "FPR is: 0.00 ------> Native American\n",
            "FPR is: 0.00 ------> Asian\n"
          ],
          "name": "stdout"
        }
      ]
    },
    {
      "cell_type": "markdown",
      "metadata": {
        "id": "H2zFb1_WBFIV",
        "colab_type": "text"
      },
      "source": [
        "###Gender analysis\n",
        "From the basic anaylsis we did on the genders in the dataset, we conclude the following: \\\\\n",
        "1. The averages of decile_score for both genders are very close\n",
        "2. Also the histogram of decile_score for both genders is very close\n",
        "3. There are more male instances than female instances in the dataset. This also may introduce some kind of biasing towards one gender.\n",
        "4. Males have a recidivism rate of about 48% while females have a recidivism rate of about 36%.\n",
        "5. We found that the males FPR is 0.25 while females FPR is 0.07"
      ]
    },
    {
      "cell_type": "code",
      "metadata": {
        "id": "xwtW_HCYQEFM",
        "colab_type": "code",
        "outputId": "c51e2a9c-f76f-455a-e82d-bdcfffe10a80",
        "colab": {
          "base_uri": "https://localhost:8080/",
          "height": 229
        }
      },
      "source": [
        "#Mean of decile_score per gender\n",
        "unique_genders = data1.sex.unique()\n",
        "score_races = []\n",
        "for i in unique_genders:\n",
        "  score_races.append(data1.loc[data1['sex'] == i].decile_score.mean())\n",
        "\n",
        "print(\"   Mean of decile_score per gender\")\n",
        "plt.figure(figsize=(10, 3))\n",
        "plt.bar(unique_genders,score_races)\n",
        "plt.show()"
      ],
      "execution_count": 19,
      "outputs": [
        {
          "output_type": "stream",
          "text": [
            "   Mean of decile_score per gender\n"
          ],
          "name": "stdout"
        },
        {
          "output_type": "display_data",
          "data": {
            "image/png": "[encoded data removed]",
            "text/plain": [
              "<Figure size 720x216 with 1 Axes>"
            ]
          },
          "metadata": {
            "tags": [],
            "needs_background": "light"
          }
        }
      ]
    },
    {
      "cell_type": "code",
      "metadata": {
        "id": "ROntGyyqT3lY",
        "colab_type": "code",
        "outputId": "da07df1c-ddc4-4381-e353-5effae5bda95",
        "colab": {
          "base_uri": "https://localhost:8080/",
          "height": 245
        }
      },
      "source": [
        "#Distribution of decile_score per gender\n",
        "unique_genders = data1.sex.unique()\n",
        "\n",
        "plt.figure(figsize=(10, 3))\n",
        "sp = 0\n",
        "for i in unique_genders: \n",
        "  data_series = data1.loc[data1['sex'] == i].decile_score\n",
        "  histo = data_series.value_counts()\n",
        "  plt.subplot(121+sp)\n",
        "  plt.bar(histo.keys(),histo.to_numpy())\n",
        "  plt.title(\"Histogram of \" + i + \" scores\")\n",
        "  sp+=1\n",
        "\n",
        "print(\"     Distribution of decile_score per gender\")"
      ],
      "execution_count": 20,
      "outputs": [
        {
          "output_type": "stream",
          "text": [
            "     Distribution of decile_score per gender\n"
          ],
          "name": "stdout"
        },
        {
          "output_type": "display_data",
          "data": {
            "image/png": "[encoded data removed]",
            "text/plain": [
              "<Figure size 720x216 with 2 Axes>"
            ]
          },
          "metadata": {
            "tags": [],
            "needs_background": "light"
          }
        }
      ]
    },
    {
      "cell_type": "code",
      "metadata": {
        "id": "gUyw1YvABAcG",
        "colab_type": "code",
        "outputId": "607a2abf-fdc1-4753-9d8b-9b632b8734e5",
        "colab": {
          "base_uri": "https://localhost:8080/",
          "height": 372
        }
      },
      "source": [
        "#Recidivism rates by gender\n",
        "gender_count = data1[\"sex\"].value_counts()\n",
        "\n",
        "print(\"   Recidivism rates by gender\")\n",
        "print(\"\")\n",
        "plt.figure(figsize=(13, 5))\n",
        "sp=0\n",
        "for i in unique_genders:\n",
        "   num_arr = data1[(data1[\"sex\"] == i) & (data1['two_year_recid'] == 1)].shape[0]/gender_count[i]*100\n",
        "   num_not_arr = data1[(data1[\"sex\"] == i) & (data1['two_year_recid'] == 0)].shape[0]/gender_count[i]*100\n",
        "   plt.subplot(121+sp)\n",
        "   plt.bar(['Re-arrested','Not re-arrested'],[num_arr,num_not_arr])\n",
        "   plt.title(i + \" arrest rate\")\n",
        "   plt.ylabel(\"percentage\")\n",
        "   sp+=1"
      ],
      "execution_count": 24,
      "outputs": [
        {
          "output_type": "stream",
          "text": [
            "   Recidivism rates by gender\n",
            "\n"
          ],
          "name": "stdout"
        },
        {
          "output_type": "display_data",
          "data": {
            "image/png": "[encoded data removed]",
            "text/plain": [
              "<Figure size 936x360 with 2 Axes>"
            ]
          },
          "metadata": {
            "tags": [],
            "needs_background": "light"
          }
        }
      ]
    },
    {
      "cell_type": "code",
      "metadata": {
        "id": "RvLkPrduGXiP",
        "colab_type": "code",
        "outputId": "2654e7d1-08c8-4ef2-a0fb-725f8334abf0",
        "colab": {
          "base_uri": "https://localhost:8080/",
          "height": 372
        }
      },
      "source": [
        "#COMPAS scores accuracy by gender\n",
        "compas_acc_c = []\n",
        "for i in unique_genders:\n",
        "  compas_arrest_numc = (data1[(data1[\"decile_score\"] > 4) & (data1[\"sex\"] == i)])[\"two_year_recid\"].value_counts()\n",
        "  compas_no_arrest_numc = (data1[(data1[\"decile_score\"] <= 4) & (data1[\"sex\"] == i)])[\"two_year_recid\"].value_counts()\n",
        "  compas_pred_correctc = compas_arrest_numc[1] + compas_no_arrest_numc[0]\n",
        "  compas_pred_wrongc = compas_arrest_numc[0] + compas_no_arrest_numc[1]\n",
        "  comp_acc = (compas_pred_correctc/(compas_pred_correctc+compas_pred_wrongc))*100\n",
        "  compas_acc_c = compas_acc_c + [comp_acc]\n",
        "  print(\"COMPAS scores accuracy for %s is: %.2f%% \" %(i,comp_acc))\n",
        "\n",
        "plt.figure(figsize=(13, 5))\n",
        "plt.bar(unique_genders,compas_acc_c)\n",
        "plt.ylabel(\"percentage %\")\n",
        "plt.title(\"COMPAS scores accuracy by race\")\n",
        "plt.show()"
      ],
      "execution_count": 26,
      "outputs": [
        {
          "output_type": "stream",
          "text": [
            "COMPAS scores accuracy for Male is: 65.37% \n",
            "COMPAS scores accuracy for Female is: 65.38% \n"
          ],
          "name": "stdout"
        },
        {
          "output_type": "display_data",
          "data": {
            "image/png": "[encoded data removed]",
            "text/plain": [
              "<Figure size 936x360 with 1 Axes>"
            ]
          },
          "metadata": {
            "tags": [],
            "needs_background": "light"
          }
        }
      ]
    },
    {
      "cell_type": "code",
      "metadata": {
        "id": "kub7LcJiB4DB",
        "colab_type": "code",
        "colab": {
          "base_uri": "https://localhost:8080/",
          "height": 53
        },
        "outputId": "98948dfd-2215-4fa0-90e8-528cd606b26d"
      },
      "source": [
        "#False positive rates (FPR) for different genders\n",
        "compas_fpr_dict = {}\n",
        "for i in unique_genders:\n",
        "  fp_compass = data1.loc[(data1[\"decile_score\"] > 4) & (data1[\"sex\"] == i) & (data1[\"two_year_recid\"] == 0)].shape[0]\n",
        "  total_n_negatives_compass = data1.loc[(data1[\"two_year_recid\"] == 0)].shape[0]\n",
        "  fpr = fp_compass / total_n_negatives_compass\n",
        "  compas_fpr_dict[i] = fpr\n",
        "  print(\"FPR is: %.2f ------> %s\" %(fpr,i))"
      ],
      "execution_count": 55,
      "outputs": [
        {
          "output_type": "stream",
          "text": [
            "FPR is: 0.25 ------> Male\n",
            "FPR is: 0.07 ------> Female\n"
          ],
          "name": "stdout"
        }
      ]
    },
    {
      "cell_type": "markdown",
      "metadata": {
        "id": "EpN0NYbKCMLH",
        "colab_type": "text"
      },
      "source": [
        "###Other analysis\n",
        "1. The dataset is somehow uniformly distributed in terms of the \"two_year_recid\" label \n",
        "2. The overall COMPAS accuracy is about 65%"
      ]
    },
    {
      "cell_type": "code",
      "metadata": {
        "id": "1uA_5S-uJ3o4",
        "colab_type": "code",
        "outputId": "071671e2-e1ab-429c-b7e0-2ad1983feaa0",
        "colab": {
          "base_uri": "https://localhost:8080/",
          "height": 281
        }
      },
      "source": [
        "#Number of people by age category\n",
        "histo = data1[\"age_cat\"].value_counts()\n",
        "plt.bar(histo.keys(),histo.to_numpy())\n",
        "plt.title(\"Number of people by age category\")\n",
        "plt.show()"
      ],
      "execution_count": 15,
      "outputs": [
        {
          "output_type": "display_data",
          "data": {
            "image/png": "[encoded data removed]",
            "text/plain": [
              "<Figure size 432x288 with 1 Axes>"
            ]
          },
          "metadata": {
            "tags": [],
            "needs_background": "light"
          }
        }
      ]
    },
    {
      "cell_type": "code",
      "metadata": {
        "id": "i-7KPefpKDhE",
        "colab_type": "code",
        "outputId": "eff6a820-75a7-4c27-ddd8-16d0da85cbe0",
        "colab": {
          "base_uri": "https://localhost:8080/",
          "height": 227
        }
      },
      "source": [
        "#Number of people by decile_score\n",
        "histo = data1[\"decile_score\"].value_counts()\n",
        "plt.figure(figsize=(8, 3))\n",
        "plt.bar(histo.keys(),histo.to_numpy())\n",
        "plt.title(\"Number of people by decile_score\")\n",
        "plt.show()"
      ],
      "execution_count": 16,
      "outputs": [
        {
          "output_type": "display_data",
          "data": {
            "image/png": "[encoded data removed]",
            "text/plain": [
              "<Figure size 576x216 with 1 Axes>"
            ]
          },
          "metadata": {
            "tags": [],
            "needs_background": "light"
          }
        }
      ]
    },
    {
      "cell_type": "code",
      "metadata": {
        "id": "ySzu313qNhwU",
        "colab_type": "code",
        "outputId": "54d1a534-eb95-484a-aca0-7679b0863a33",
        "colab": {
          "base_uri": "https://localhost:8080/",
          "height": 281
        }
      },
      "source": [
        "#Number of people by risk category\n",
        "histo = data1[\"score_text\"].value_counts()\n",
        "plt.bar(histo.keys(),histo.to_numpy())\n",
        "plt.title(\"Number of people by risk category\")\n",
        "plt.show()"
      ],
      "execution_count": 17,
      "outputs": [
        {
          "output_type": "display_data",
          "data": {
            "image/png": "[encoded data removed]",
            "text/plain": [
              "<Figure size 432x288 with 1 Axes>"
            ]
          },
          "metadata": {
            "tags": [],
            "needs_background": "light"
          }
        }
      ]
    },
    {
      "cell_type": "code",
      "metadata": {
        "id": "q1Gq1HTzYTN6",
        "colab_type": "code",
        "outputId": "13ae543e-543d-4e96-b3ae-596bc470177c",
        "colab": {
          "base_uri": "https://localhost:8080/",
          "height": 53
        }
      },
      "source": [
        "#Number of people re-arrested\n",
        "num_recid2 = dict(((data1[\"two_year_recid\"] == 1).value_counts()))\n",
        "print(\"Number of people re-arrested in two years is:\",num_recid2[True])\n",
        "print(\"Number of people not re-arrested in two years is:\",num_recid2[False])"
      ],
      "execution_count": 22,
      "outputs": [
        {
          "output_type": "stream",
          "text": [
            "Number of people re-arrested in two years is: 3251\n",
            "Number of people not re-arrested in two years is: 3963\n"
          ],
          "name": "stdout"
        }
      ]
    },
    {
      "cell_type": "code",
      "metadata": {
        "id": "EogneXCwBr8y",
        "colab_type": "code",
        "outputId": "9b1cd682-8e4c-42aa-e69e-b5fb868b3421",
        "colab": {
          "base_uri": "https://localhost:8080/",
          "height": 35
        }
      },
      "source": [
        "#COMPAS scores overall accuracy\n",
        "compas_arrest_num = (data1[data1[\"decile_score\"] > 4])[\"two_year_recid\"].value_counts()\n",
        "compas_no_arrest_num = (data1[data1[\"decile_score\"] <= 4])[\"two_year_recid\"].value_counts()\n",
        "compas_pred_correct = compas_arrest_num[1] + compas_no_arrest_num[0]\n",
        "compas_pred_wrong = compas_arrest_num[0] + compas_no_arrest_num[1]\n",
        "compas_acc = compas_pred_correct/(compas_pred_correct+compas_pred_wrong)\n",
        "print(\"COMPAS scores accuracy is: %.2f%% \" %(compas_acc*100))"
      ],
      "execution_count": 25,
      "outputs": [
        {
          "output_type": "stream",
          "text": [
            "COMPAS scores accuracy is: 65.37% \n"
          ],
          "name": "stdout"
        }
      ]
    },
    {
      "cell_type": "markdown",
      "metadata": {
        "id": "nZjcFwB-mmqp",
        "colab_type": "text"
      },
      "source": [
        "###Comparing correlation of different attributes to the races/decile_score"
      ]
    },
    {
      "cell_type": "markdown",
      "metadata": {
        "id": "6wsiOsX5paMj",
        "colab_type": "text"
      },
      "source": [
        "####Correlating dataset attributes with race\n",
        "Since being Caucasian has the value 1 and being not Caucasian has the value 0,\n",
        "we can observe the following: \\\\\n",
        "1. **Being a Caucasian** and **priors_count=0** are somehow correlated \\\\\n",
        "2. **Being not Caucasian** and **having juventile records** are a bit correlated \\\\\n",
        "3. **Being not Caucasian** and having **prior_count>3** are correlated \\\\\n",
        "All of these can be the reason for the bias of the dataset towards Caucasians \\\\\n",
        "\n",
        "On the other hand, we can see that the **two-year recidivism** and being **non Caucasian ** are somehow correlated which may explain one of the reasons that the machine learning models predicts non Caucasians to recidivate more than Caucasians."
      ]
    },
    {
      "cell_type": "code",
      "metadata": {
        "id": "RWQURfDimlkY",
        "colab_type": "code",
        "colab": {
          "base_uri": "https://localhost:8080/",
          "height": 323
        },
        "outputId": "91768c67-b864-4c54-d467-ead8313e4ee8"
      },
      "source": [
        "correlation = {}\n",
        "for i in data.columns:\n",
        "  if i != 'race' and i !='c_charge_degree' and i!='sex':\n",
        "    correlation[i] = np.corrcoef(data[i],data['race']).min()\n",
        "\n",
        "plt.figure(figsize=(30, 7))\n",
        "plt.bar(correlation.keys(),correlation.values())\n",
        "plt.grid(True)\n",
        "plt.title(\"Correlation between dataset attributes and races\")\n",
        "plt.ylabel('correlation coefficient')\n",
        "plt.show()"
      ],
      "execution_count": 53,
      "outputs": [
        {
          "output_type": "display_data",
          "data": {
            "image/png": "[encoded data removed]",
            "text/plain": [
              "<Figure size 2160x504 with 1 Axes>"
            ]
          },
          "metadata": {
            "tags": [],
            "needs_background": "light"
          }
        }
      ]
    },
    {
      "cell_type": "markdown",
      "metadata": {
        "id": "O38_uRGwpgmJ",
        "colab_type": "text"
      },
      "source": [
        "####Correlating dataset attributes with decile_score\n",
        "Since being Caucasian has the value 1 and being not Caucasian has the value 0, we can observe the following: \\\\\n",
        "1. **Being a non-Caucasian** is correlated with having **high decile_score**.\n",
        "2. **Being less than 25 years old** is correlated with having **high decile_score**"
      ]
    },
    {
      "cell_type": "code",
      "metadata": {
        "id": "Bq5i4iqEo47j",
        "colab_type": "code",
        "colab": {
          "base_uri": "https://localhost:8080/",
          "height": 324
        },
        "outputId": "9fab5bb9-ab6f-4160-9965-ca46568da01f"
      },
      "source": [
        "correlation2 = {}\n",
        "for i in data.columns:\n",
        "  if i != 'decile_score' and i !='c_charge_degree':\n",
        "    correlation2[i] = np.corrcoef(data[i],data1['decile_score']).min()\n",
        "\n",
        "plt.figure(figsize=(30, 7))\n",
        "plt.bar(correlation2.keys(),correlation2.values())\n",
        "plt.grid(True)\n",
        "plt.title(\"Correlation between dataset attributes and decile_score\")\n",
        "plt.ylabel('correlation coefficient')\n",
        "plt.show()"
      ],
      "execution_count": 54,
      "outputs": [
        {
          "output_type": "display_data",
          "data": {
            "image/png": "[encoded data removed]",
            "text/plain": [
              "<Figure size 2160x504 with 1 Axes>"
            ]
          },
          "metadata": {
            "tags": [],
            "needs_background": "light"
          }
        }
      ]
    },
    {
      "cell_type": "markdown",
      "metadata": {
        "id": "RWgLySE40U9u",
        "colab_type": "text"
      },
      "source": [
        "##(4) Building classifiers"
      ]
    },
    {
      "cell_type": "markdown",
      "metadata": {
        "id": "2l6XXT812BOf",
        "colab_type": "text"
      },
      "source": [
        "###Multi-layer Perceptron\n",
        "We trained a MLP perceptron with two dense layers, each layer has 20 neurons. We used binary crossentropy loss along with Adam optimizer. \\\\\n",
        "1. We got a total accuracy of about 70%\n",
        "2. The FPR for non-Caucasians is 0.26 while the FPR for Caucasians is 0.17. The classifier is still biased towards Caucasians. \n",
        "\n"
      ]
    },
    {
      "cell_type": "code",
      "metadata": {
        "id": "7e2wXn2g0Xq5",
        "colab_type": "code",
        "outputId": "3256164d-a680-479a-ab84-3a77f3f54b60",
        "colab": {
          "base_uri": "https://localhost:8080/",
          "height": 341
        }
      },
      "source": [
        "input_shape = xtrain.shape[1]\n",
        "\n",
        "#MLP\n",
        "model = Sequential()\n",
        "model.add(Dense(20,activation='relu',input_dim=input_shape))\n",
        "model.add(Dense(20,activation='relu'))\n",
        "model.add(Dense(1,activation='sigmoid'))\n",
        "model.compile(optimizer=Adam(),loss='binary_crossentropy',metrics=['accuracy'])\n",
        "history = model.fit(xtrain,ytrain,16,8,validation_data=(xtest,ytest))\n",
        "loss_test, acc_test = model.evaluate(xtest,ytest)\n",
        "ypred = model.predict(xtest)\n",
        "print(\"Test accuracy is: %.2f %%\" %(acc_test*100))\n",
        "#plot_acc(history)"
      ],
      "execution_count": 29,
      "outputs": [
        {
          "output_type": "stream",
          "text": [
            "Epoch 1/8\n",
            "384/384 [==============================] - 1s 2ms/step - loss: 0.6409 - accuracy: 0.6382 - val_loss: 0.5999 - val_accuracy: 0.6851\n",
            "Epoch 2/8\n",
            "384/384 [==============================] - 1s 1ms/step - loss: 0.6163 - accuracy: 0.6663 - val_loss: 0.5978 - val_accuracy: 0.6870\n",
            "Epoch 3/8\n",
            "384/384 [==============================] - 1s 2ms/step - loss: 0.6138 - accuracy: 0.6705 - val_loss: 0.5960 - val_accuracy: 0.6879\n",
            "Epoch 4/8\n",
            "384/384 [==============================] - 1s 1ms/step - loss: 0.6129 - accuracy: 0.6694 - val_loss: 0.5977 - val_accuracy: 0.6888\n",
            "Epoch 5/8\n",
            "384/384 [==============================] - 1s 2ms/step - loss: 0.6120 - accuracy: 0.6704 - val_loss: 0.5972 - val_accuracy: 0.6925\n",
            "Epoch 6/8\n",
            "384/384 [==============================] - 1s 1ms/step - loss: 0.6108 - accuracy: 0.6720 - val_loss: 0.5955 - val_accuracy: 0.6981\n",
            "Epoch 7/8\n",
            "384/384 [==============================] - 1s 1ms/step - loss: 0.6109 - accuracy: 0.6722 - val_loss: 0.5976 - val_accuracy: 0.6981\n",
            "Epoch 8/8\n",
            "384/384 [==============================] - 1s 1ms/step - loss: 0.6092 - accuracy: 0.6671 - val_loss: 0.5982 - val_accuracy: 0.6971\n",
            "34/34 [==============================] - 0s 1ms/step - loss: 0.5979 - accuracy: 0.6971\n",
            "Test accuracy is: 69.71 %\n"
          ],
          "name": "stdout"
        }
      ]
    },
    {
      "cell_type": "code",
      "metadata": {
        "id": "2AFWU-0BASsU",
        "colab_type": "code",
        "outputId": "cbf546cb-742d-4517-af88-7a0309a483cd",
        "colab": {
          "base_uri": "https://localhost:8080/",
          "height": 35
        }
      },
      "source": [
        "#calculating accuracy manually\n",
        "ypred2 = ypred > 0.5\n",
        "ypred_mlp = ypred.copy()\n",
        "ytest2 = np.array(ytest, dtype=bool)\n",
        "ypred2 = ypred2.reshape((-1,1))\n",
        "ytest2 = ytest2.reshape((-1,1))\n",
        "corr = np.count_nonzero(ypred2 == ytest2)\n",
        "acc = corr/ytest2.shape[0]\n",
        "print(\"Test accuracy is: %.2f%%\" %(acc*100))"
      ],
      "execution_count": 30,
      "outputs": [
        {
          "output_type": "stream",
          "text": [
            "Test accuracy is: 69.71%\n"
          ],
          "name": "stdout"
        }
      ]
    },
    {
      "cell_type": "code",
      "metadata": {
        "id": "yVEe_McOodQl",
        "colab_type": "code",
        "outputId": "14fdc5fb-af77-490d-c149-628e7107455d",
        "colab": {
          "base_uri": "https://localhost:8080/",
          "height": 53
        }
      },
      "source": [
        "mlp_acc_dict = {}\n",
        "mlp_fpr_dict = {}\n",
        "unique_races_mod = ['Not Caucasian','Caucasian']\n",
        "for i in range(len(unique_races_mod)):\n",
        "  argss = np.argwhere(xtest[:,1]==i)\n",
        "  ypred3 = ypred2[argss]\n",
        "  ytest3 = ytest2[argss]\n",
        "  acc, fpr = compute_fpr(ypred3,ytest3)\n",
        "  mlp_acc_dict[i] = acc\n",
        "  mlp_fpr_dict[i] = fpr\n",
        "  print(\"Accuracy is %.2f and FPR is %.2f for %s\" %(acc,fpr,unique_races_mod[i]))"
      ],
      "execution_count": 31,
      "outputs": [
        {
          "output_type": "stream",
          "text": [
            "Accuracy is 0.69 and FPR is 0.26 for Not Caucasian\n",
            "Accuracy is 0.71 and FPR is 0.17 for Caucasian\n"
          ],
          "name": "stdout"
        }
      ]
    },
    {
      "cell_type": "markdown",
      "metadata": {
        "id": "-ARvQosbBSKz",
        "colab_type": "text"
      },
      "source": [
        "###K-nearest neighbors\n",
        "We trained a K-nearest neighbor classifier with K=21 \\\\\n",
        "1. We got a total accuracy of about 67.5%\n",
        "2. The FPR for non-Caucasians is 0.32 while the FPR for Caucasians is 0.17 \\\\\n",
        "The classifier is still biased towards Caucasians. "
      ]
    },
    {
      "cell_type": "code",
      "metadata": {
        "id": "fCfpeTeqBPsH",
        "colab_type": "code",
        "outputId": "c639b36d-190b-4c2a-bf3c-1b37c678a882",
        "colab": {
          "base_uri": "https://localhost:8080/",
          "height": 91
        }
      },
      "source": [
        "model_knn = KNeighborsClassifier(n_neighbors=21)\n",
        "model_knn.fit(xtrain,ytrain)\n",
        "acc_knn = model_knn.score(xtest,ytest)\n",
        "print(\"Test accuracy is: %.2f%%\" %(acc_knn*100))"
      ],
      "execution_count": 32,
      "outputs": [
        {
          "output_type": "stream",
          "text": [
            "Test accuracy is: 67.50%\n"
          ],
          "name": "stdout"
        },
        {
          "output_type": "stream",
          "text": [
            "/usr/local/lib/python3.6/dist-packages/ipykernel_launcher.py:2: DataConversionWarning: A column-vector y was passed when a 1d array was expected. Please change the shape of y to (n_samples, ), for example using ravel().\n",
            "  \n"
          ],
          "name": "stderr"
        }
      ]
    },
    {
      "cell_type": "code",
      "metadata": {
        "id": "HFsz60-zMJ7i",
        "colab_type": "code",
        "outputId": "9e21dfa2-eb22-48d3-8a20-9703f152e3af",
        "colab": {
          "base_uri": "https://localhost:8080/",
          "height": 53
        }
      },
      "source": [
        "#calculating accuracy and FPR for each race\n",
        "ypred2 = model_knn.predict(xtest)\n",
        "knn_acc_dict = {}\n",
        "knn_fpr_dict = {}\n",
        "ypred2 = ypred2.reshape((-1,1))\n",
        "ytest2 = ytest2.reshape((-1,1))\n",
        "unique_races_mod = ['Not Caucasian','Caucasian']\n",
        "for i in range(len(unique_races_mod)):\n",
        "  argss = np.argwhere(xtest[:,1]==i)\n",
        "  ypred3 = ypred2[argss]\n",
        "  ytest3 = ytest2[argss]\n",
        "  acc, fpr = compute_fpr(ypred3,ytest3)\n",
        "  knn_acc_dict[i] = acc\n",
        "  knn_fpr_dict[i] = fpr\n",
        "  print(\"Accuracy is %.3f and FPR is %.3f for %s\" %(acc,fpr,unique_races_mod[i]))"
      ],
      "execution_count": 33,
      "outputs": [
        {
          "output_type": "stream",
          "text": [
            "Accuracy is 0.676 and FPR is 0.322 for Not Caucasian\n",
            "Accuracy is 0.673 and FPR is 0.165 for Caucasian\n"
          ],
          "name": "stdout"
        }
      ]
    },
    {
      "cell_type": "markdown",
      "metadata": {
        "id": "0pDZiqdBMs1s",
        "colab_type": "text"
      },
      "source": [
        "###Logistic Regression\n",
        "We trained a Logistic Regression classifier \\\\\n",
        "1. We got a total accuracy of about 69.62%\n",
        "2. The FPR for non-Caucasians is 0.29 while the FPR for Caucasians is 0.20 \\\\\n",
        "The classifier is still biased towards Caucasians. "
      ]
    },
    {
      "cell_type": "code",
      "metadata": {
        "id": "HV72F_LeMt9l",
        "colab_type": "code",
        "outputId": "d069f71d-613c-4b44-cb5e-8863add79fc3",
        "colab": {
          "base_uri": "https://localhost:8080/",
          "height": 91
        }
      },
      "source": [
        "model_lreg = LogisticRegression()\n",
        "model_lreg.fit(xtrain, ytrain) \n",
        "acc_lreg = model_lreg.score(xtest,ytest)\n",
        "print(\"Test accuracy is: %.2f%%\" %(acc_lreg*100))"
      ],
      "execution_count": 34,
      "outputs": [
        {
          "output_type": "stream",
          "text": [
            "Test accuracy is: 69.62%\n"
          ],
          "name": "stdout"
        },
        {
          "output_type": "stream",
          "text": [
            "/usr/local/lib/python3.6/dist-packages/sklearn/utils/validation.py:760: DataConversionWarning: A column-vector y was passed when a 1d array was expected. Please change the shape of y to (n_samples, ), for example using ravel().\n",
            "  y = column_or_1d(y, warn=True)\n"
          ],
          "name": "stderr"
        }
      ]
    },
    {
      "cell_type": "code",
      "metadata": {
        "id": "aMG2XommIT0y",
        "colab_type": "code",
        "outputId": "4e182617-a478-4c32-ff6e-5e62d54e43be",
        "colab": {
          "base_uri": "https://localhost:8080/",
          "height": 53
        }
      },
      "source": [
        "#calculating accuracy and FPR for each race\n",
        "ypred2 = model_lreg.predict(xtest)\n",
        "lreg_acc_dict = {}\n",
        "lreg_fpr_dict = {}\n",
        "ypred2 = ypred2.reshape((-1,1))\n",
        "ytest2 = ytest2.reshape((-1,1))\n",
        "unique_races_mod = ['Not Caucasian','Caucasian']\n",
        "for i in range(len(unique_races_mod)):\n",
        "  argss = np.argwhere(xtest[:,1]==i)\n",
        "  ypred3 = ypred2[argss]\n",
        "  ytest3 = ytest2[argss]\n",
        "  acc, fpr = compute_fpr(ypred3,ytest3)  \n",
        "  lreg_acc_dict[i] = acc\n",
        "  lreg_fpr_dict[i] = fpr\n",
        "  print(\"Accuracy is %.3f and FPR is %.3f for %s\" %(acc,fpr,unique_races_mod[i]))"
      ],
      "execution_count": 35,
      "outputs": [
        {
          "output_type": "stream",
          "text": [
            "Accuracy is 0.689 and FPR is 0.285 for Not Caucasian\n",
            "Accuracy is 0.710 and FPR is 0.199 for Caucasian\n"
          ],
          "name": "stdout"
        }
      ]
    },
    {
      "cell_type": "markdown",
      "metadata": {
        "id": "Hs_Ko02mNdO4",
        "colab_type": "text"
      },
      "source": [
        "###Decision Tree\n",
        "We trained a Decision Tree classifier \\\\\n",
        "1. We got a total accuracy of about 68.14%\n",
        "2. The FPR for non-Caucasians is 0.28 while the FPR for Caucasians is 0.19 \\\\\n",
        "The classifier is still biased towards Caucasians. "
      ]
    },
    {
      "cell_type": "code",
      "metadata": {
        "id": "LB_2MyzsNf-n",
        "colab_type": "code",
        "outputId": "66e9a956-a74d-4d25-f9a1-1952a5db09e0",
        "colab": {
          "base_uri": "https://localhost:8080/",
          "height": 35
        }
      },
      "source": [
        "model_tree = DecisionTreeClassifier(random_state=0)\n",
        "model_tree.fit(xtrain,ytrain)\n",
        "acc_tree = model_tree.score(xtest,ytest)\n",
        "print(\"Test accuracy is: %.2f%%\" %(acc_tree*100))"
      ],
      "execution_count": 36,
      "outputs": [
        {
          "output_type": "stream",
          "text": [
            "Test accuracy is: 68.14%\n"
          ],
          "name": "stdout"
        }
      ]
    },
    {
      "cell_type": "code",
      "metadata": {
        "id": "TTn85YYvOEOC",
        "colab_type": "code",
        "outputId": "c49f1254-4c6b-48e7-8d09-21c02e8b399b",
        "colab": {
          "base_uri": "https://localhost:8080/",
          "height": 53
        }
      },
      "source": [
        "#calculating accuracy and FPR for each race\n",
        "ypred2 = model_tree.predict(xtest)\n",
        "tree_acc_dict = {}\n",
        "tree_fpr_dict = {}\n",
        "ypred2 = ypred2.reshape((-1,1))\n",
        "ytest2 = ytest2.reshape((-1,1))\n",
        "unique_races_mod = ['Not Caucasian','Caucasian']\n",
        "for i in range(len(unique_races_mod)):\n",
        "  argss = np.argwhere(xtest[:,1]==i)\n",
        "  ypred3 = ypred2[argss]\n",
        "  ytest3 = ytest2[argss]\n",
        "  acc, fpr = compute_fpr(ypred3,ytest3)    \n",
        "  tree_acc_dict[i] = acc\n",
        "  tree_fpr_dict[i] = fpr\n",
        "  print(\"Accuracy is %.2f and FPR is %.2f for %s\" %(acc,fpr,unique_races_mod[i]))"
      ],
      "execution_count": 37,
      "outputs": [
        {
          "output_type": "stream",
          "text": [
            "Accuracy is 0.67 and FPR is 0.28 for Not Caucasian\n",
            "Accuracy is 0.70 and FPR is 0.19 for Caucasian\n"
          ],
          "name": "stdout"
        }
      ]
    },
    {
      "cell_type": "markdown",
      "metadata": {
        "id": "bbmp4p5mObRZ",
        "colab_type": "text"
      },
      "source": [
        "##(5) Classification Fairness"
      ]
    },
    {
      "cell_type": "markdown",
      "metadata": {
        "id": "ezin2QuUiUCz",
        "colab_type": "text"
      },
      "source": [
        "###Removing race from attributes\n",
        "When training MLP and Decision Tree models with the same data but removing the race from the attributes, we got also an unfair classifier which has less False Positive Rate (FPR) for Caucasians than other non-Caucasians. \\\\\n",
        "This was expected as we may have other attributes which have values that are implicitly affected by the race attribute based on the human factor. This was somehow mentioned in the analysis part.\n"
      ]
    },
    {
      "cell_type": "code",
      "metadata": {
        "id": "FGpwDhpuiiDx",
        "colab_type": "code",
        "colab": {}
      },
      "source": [
        "#removing race from attributes\n",
        "races_array_train = xtrain[:,1]\n",
        "races_array_test = xtest[:,1]\n",
        "xtrain2 = np.delete(xtrain,1,axis=1)\n",
        "xtest2 = np.delete(xtest,1,axis=1)"
      ],
      "execution_count": 0,
      "outputs": []
    },
    {
      "cell_type": "code",
      "metadata": {
        "id": "iLzuo5Dhp_nn",
        "colab_type": "code",
        "outputId": "b4389870-8db6-4ebb-f478-b9cca73aa769",
        "colab": {
          "base_uri": "https://localhost:8080/",
          "height": 341
        }
      },
      "source": [
        "#MLP\n",
        "input_shape = xtrain2.shape[1]\n",
        "\n",
        "model = Sequential()\n",
        "model.add(Dense(20,activation='relu',input_dim=input_shape))\n",
        "model.add(Dense(20,activation='relu'))\n",
        "model.add(Dense(1,activation='sigmoid'))\n",
        "model.compile(optimizer=Adam(),loss='binary_crossentropy',metrics=['accuracy'])\n",
        "history = model.fit(xtrain2,ytrain,16,8,validation_data=(xtest2,ytest))\n",
        "loss_test, acc_test = model.evaluate(xtest2,ytest)\n",
        "ypred = model.predict(xtest2)\n",
        "print(\"Test accuracy is: %.2f %%\" %(acc_test*100))\n",
        "#plot_acc(history)"
      ],
      "execution_count": 39,
      "outputs": [
        {
          "output_type": "stream",
          "text": [
            "Epoch 1/8\n",
            "384/384 [==============================] - 1s 2ms/step - loss: 0.6468 - accuracy: 0.6319 - val_loss: 0.6046 - val_accuracy: 0.6907\n",
            "Epoch 2/8\n",
            "384/384 [==============================] - 1s 1ms/step - loss: 0.6197 - accuracy: 0.6658 - val_loss: 0.5978 - val_accuracy: 0.6944\n",
            "Epoch 3/8\n",
            "384/384 [==============================] - 1s 1ms/step - loss: 0.6176 - accuracy: 0.6681 - val_loss: 0.5978 - val_accuracy: 0.6925\n",
            "Epoch 4/8\n",
            "384/384 [==============================] - 1s 1ms/step - loss: 0.6165 - accuracy: 0.6722 - val_loss: 0.5962 - val_accuracy: 0.6990\n",
            "Epoch 5/8\n",
            "384/384 [==============================] - 1s 1ms/step - loss: 0.6150 - accuracy: 0.6681 - val_loss: 0.5956 - val_accuracy: 0.6879\n",
            "Epoch 6/8\n",
            "384/384 [==============================] - 1s 1ms/step - loss: 0.6133 - accuracy: 0.6704 - val_loss: 0.5969 - val_accuracy: 0.6962\n",
            "Epoch 7/8\n",
            "384/384 [==============================] - 1s 1ms/step - loss: 0.6141 - accuracy: 0.6705 - val_loss: 0.5959 - val_accuracy: 0.6925\n",
            "Epoch 8/8\n",
            "384/384 [==============================] - 1s 1ms/step - loss: 0.6129 - accuracy: 0.6726 - val_loss: 0.5965 - val_accuracy: 0.6925\n",
            "34/34 [==============================] - 0s 1ms/step - loss: 0.5965 - accuracy: 0.6925\n",
            "Test accuracy is: 69.25 %\n"
          ],
          "name": "stdout"
        }
      ]
    },
    {
      "cell_type": "code",
      "metadata": {
        "id": "BthGIuzCqlVV",
        "colab_type": "code",
        "outputId": "89bddf20-d039-4565-f5c1-743234fd7402",
        "colab": {
          "base_uri": "https://localhost:8080/",
          "height": 71
        }
      },
      "source": [
        "#calculating accuracy and FPR for each race using MLP model\n",
        "co=0\n",
        "ypred2 = ypred > 0.5\n",
        "ytest2 = np.array(ytest, dtype=bool)\n",
        "mlp_acc_dict_no_race = {}\n",
        "mlp_fpr_dict_no_race = {}\n",
        "print(\"Calculating accuracy and FPR for each race using MLP model\")\n",
        "ypred2 = ypred2.reshape((-1,1))\n",
        "ytest2 = ytest2.reshape((-1,1))\n",
        "unique_races_mod = ['Not Caucasian','Caucasian']\n",
        "for i in range(len(unique_races_mod)):\n",
        "  argss = np.argwhere(xtest[:,1]==i)\n",
        "  ypred3 = ypred2[argss]\n",
        "  ytest3 = ytest2[argss]\n",
        "  acc, fpr = compute_fpr(ypred3,ytest3)\n",
        "  mlp_acc_dict_no_race[i] = acc\n",
        "  mlp_fpr_dict_no_race[i] = fpr\n",
        "  #st_print = start + \"Accuracy is %.2f and FPR is %.2f for %s\" + end\n",
        "  #print(st_print %(acc,fpr,i))\n",
        "  print(\"Accuracy is %.2f and FPR is %.2f for %s\" %(acc,fpr,unique_races_mod[i]))"
      ],
      "execution_count": 40,
      "outputs": [
        {
          "output_type": "stream",
          "text": [
            "Calculating accuracy and FPR for each race using MLP model\n",
            "Accuracy is 0.69 and FPR is 0.28 for Not Caucasian\n",
            "Accuracy is 0.70 and FPR is 0.21 for Caucasian\n"
          ],
          "name": "stdout"
        }
      ]
    },
    {
      "cell_type": "code",
      "metadata": {
        "id": "heIzKL8hq7Ce",
        "colab_type": "code",
        "outputId": "f4f76dc8-2164-477e-f24c-7eebcb5b25c1",
        "colab": {
          "base_uri": "https://localhost:8080/",
          "height": 35
        }
      },
      "source": [
        "#Decision Trees\n",
        "model_tree = DecisionTreeClassifier(random_state=0)\n",
        "model_tree.fit(xtrain2,ytrain)\n",
        "acc_tree = model_tree.score(xtest2,ytest)\n",
        "print(\"Test accuracy is: %.2f%%\" %(acc_tree*100))"
      ],
      "execution_count": 41,
      "outputs": [
        {
          "output_type": "stream",
          "text": [
            "Test accuracy is: 67.50%\n"
          ],
          "name": "stdout"
        }
      ]
    },
    {
      "cell_type": "code",
      "metadata": {
        "id": "PNv0k6zNrJJD",
        "colab_type": "code",
        "outputId": "36ab51ee-1933-455d-b4e6-4215aed37433",
        "colab": {
          "base_uri": "https://localhost:8080/",
          "height": 71
        }
      },
      "source": [
        "#calculating accuracy and FPR for each race using Desicion Tree model\n",
        "ypred2 = model_tree.predict(xtest2)\n",
        "co=0\n",
        "tree_acc_dict_no_race = {}\n",
        "tree_fpr_dict_no_race = {}\n",
        "print(\"Calculating accuracy and FPR for each race using Decision Tree model\")\n",
        "ypred2 = ypred2.reshape((-1,1))\n",
        "ytest2 = ytest2.reshape((-1,1))\n",
        "unique_races_mod = ['Not Caucasian','Caucasian']\n",
        "for i in range(len(unique_races_mod)):\n",
        "  argss = np.argwhere(xtest[:,1]==i)\n",
        "  ypred3 = ypred2[argss]\n",
        "  ytest3 = ytest2[argss]\n",
        "  acc, fpr = compute_fpr(ypred3,ytest3)\n",
        "  tree_acc_dict_no_race[i] = acc\n",
        "  tree_fpr_dict_no_race[i] = fpr\n",
        "  #st_print = start + \"Accuracy is %.2f and FPR is %.2f for %s\" + end\n",
        "  #print(st_print %(acc,fpr,i))\n",
        "  print(\"Accuracy is %.2f and FPR is %.2f for %s\" %(acc,fpr,unique_races_mod[i]))"
      ],
      "execution_count": 42,
      "outputs": [
        {
          "output_type": "stream",
          "text": [
            "Calculating accuracy and FPR for each race using Decision Tree model\n",
            "Accuracy is 0.67 and FPR is 0.27 for Not Caucasian\n",
            "Accuracy is 0.69 and FPR is 0.20 for Caucasian\n"
          ],
          "name": "stdout"
        }
      ]
    },
    {
      "cell_type": "markdown",
      "metadata": {
        "id": "CQT1l2UIYFQc",
        "colab_type": "text"
      },
      "source": [
        "###Mitigating bias using post-processing separation technique (Reject Option Classification - ROC)\n",
        "We used the AIF360 package developped by IBM to test the algorithm of mitigating the bias in our COMPAS dataset. In this phase, all we care about is having a fair enough classifier while maintaing the same value range of the accuracy as much as possible. \\\\\n",
        "\n",
        "We noticed that the difference between the FPRs of Caucasians and non-Caucasians dropped alot but on the other hand, this affected the accuracy which also dropped."
      ]
    },
    {
      "cell_type": "code",
      "metadata": {
        "id": "bNzDxWREBxTM",
        "colab_type": "code",
        "colab": {
          "base_uri": "https://localhost:8080/",
          "height": 224
        },
        "outputId": "72bafae0-02c9-4ccd-b748-784e8f0d106f"
      },
      "source": [
        "#visualizing the dataset\n",
        "data.tail()"
      ],
      "execution_count": 56,
      "outputs": [
        {
          "output_type": "execute_result",
          "data": {
            "text/html": [
              "<div>\n",
              "<style scoped>\n",
              "    .dataframe tbody tr th:only-of-type {\n",
              "        vertical-align: middle;\n",
              "    }\n",
              "\n",
              "    .dataframe tbody tr th {\n",
              "        vertical-align: top;\n",
              "    }\n",
              "\n",
              "    .dataframe thead th {\n",
              "        text-align: right;\n",
              "    }\n",
              "</style>\n",
              "<table border=\"1\" class=\"dataframe\">\n",
              "  <thead>\n",
              "    <tr style=\"text-align: right;\">\n",
              "      <th></th>\n",
              "      <th>sex</th>\n",
              "      <th>race</th>\n",
              "      <th>juv_fel_count</th>\n",
              "      <th>juv_misd_count</th>\n",
              "      <th>juv_other_count</th>\n",
              "      <th>c_charge_degree</th>\n",
              "      <th>priors_count_0</th>\n",
              "      <th>priors_count_2</th>\n",
              "      <th>priors_count_1</th>\n",
              "      <th>num_jail_days_0.0</th>\n",
              "      <th>num_jail_days_1.0</th>\n",
              "      <th>num_jail_days_2.0</th>\n",
              "      <th>age_cat_2</th>\n",
              "      <th>age_cat_1</th>\n",
              "      <th>age_cat_0</th>\n",
              "      <th>two_year_recid</th>\n",
              "    </tr>\n",
              "  </thead>\n",
              "  <tbody>\n",
              "    <tr>\n",
              "      <th>7209</th>\n",
              "      <td>1.0</td>\n",
              "      <td>0.0</td>\n",
              "      <td>0.0</td>\n",
              "      <td>0.0</td>\n",
              "      <td>0.0</td>\n",
              "      <td>0.0</td>\n",
              "      <td>1.0</td>\n",
              "      <td>0.0</td>\n",
              "      <td>0.0</td>\n",
              "      <td>1.0</td>\n",
              "      <td>0.0</td>\n",
              "      <td>0.0</td>\n",
              "      <td>0.0</td>\n",
              "      <td>0.0</td>\n",
              "      <td>1.0</td>\n",
              "      <td>0.0</td>\n",
              "    </tr>\n",
              "    <tr>\n",
              "      <th>7210</th>\n",
              "      <td>1.0</td>\n",
              "      <td>0.0</td>\n",
              "      <td>0.0</td>\n",
              "      <td>0.0</td>\n",
              "      <td>0.0</td>\n",
              "      <td>0.0</td>\n",
              "      <td>1.0</td>\n",
              "      <td>0.0</td>\n",
              "      <td>0.0</td>\n",
              "      <td>1.0</td>\n",
              "      <td>0.0</td>\n",
              "      <td>0.0</td>\n",
              "      <td>0.0</td>\n",
              "      <td>0.0</td>\n",
              "      <td>1.0</td>\n",
              "      <td>0.0</td>\n",
              "    </tr>\n",
              "    <tr>\n",
              "      <th>7211</th>\n",
              "      <td>1.0</td>\n",
              "      <td>0.0</td>\n",
              "      <td>0.0</td>\n",
              "      <td>0.0</td>\n",
              "      <td>0.0</td>\n",
              "      <td>0.0</td>\n",
              "      <td>1.0</td>\n",
              "      <td>0.0</td>\n",
              "      <td>0.0</td>\n",
              "      <td>1.0</td>\n",
              "      <td>0.0</td>\n",
              "      <td>0.0</td>\n",
              "      <td>1.0</td>\n",
              "      <td>0.0</td>\n",
              "      <td>0.0</td>\n",
              "      <td>0.0</td>\n",
              "    </tr>\n",
              "    <tr>\n",
              "      <th>7212</th>\n",
              "      <td>0.0</td>\n",
              "      <td>0.0</td>\n",
              "      <td>0.0</td>\n",
              "      <td>0.0</td>\n",
              "      <td>0.0</td>\n",
              "      <td>1.0</td>\n",
              "      <td>0.0</td>\n",
              "      <td>1.0</td>\n",
              "      <td>0.0</td>\n",
              "      <td>1.0</td>\n",
              "      <td>0.0</td>\n",
              "      <td>0.0</td>\n",
              "      <td>0.0</td>\n",
              "      <td>1.0</td>\n",
              "      <td>0.0</td>\n",
              "      <td>0.0</td>\n",
              "    </tr>\n",
              "    <tr>\n",
              "      <th>7213</th>\n",
              "      <td>0.0</td>\n",
              "      <td>0.0</td>\n",
              "      <td>0.0</td>\n",
              "      <td>0.0</td>\n",
              "      <td>0.0</td>\n",
              "      <td>0.0</td>\n",
              "      <td>0.0</td>\n",
              "      <td>0.0</td>\n",
              "      <td>1.0</td>\n",
              "      <td>1.0</td>\n",
              "      <td>0.0</td>\n",
              "      <td>0.0</td>\n",
              "      <td>0.0</td>\n",
              "      <td>0.0</td>\n",
              "      <td>1.0</td>\n",
              "      <td>1.0</td>\n",
              "    </tr>\n",
              "  </tbody>\n",
              "</table>\n",
              "</div>"
            ],
            "text/plain": [
              "      sex  race  juv_fel_count  ...  age_cat_1  age_cat_0  two_year_recid\n",
              "7209  1.0   0.0            0.0  ...        0.0        1.0             0.0\n",
              "7210  1.0   0.0            0.0  ...        0.0        1.0             0.0\n",
              "7211  1.0   0.0            0.0  ...        0.0        0.0             0.0\n",
              "7212  0.0   0.0            0.0  ...        1.0        0.0             0.0\n",
              "7213  0.0   0.0            0.0  ...        0.0        1.0             1.0\n",
              "\n",
              "[5 rows x 16 columns]"
            ]
          },
          "metadata": {
            "tags": []
          },
          "execution_count": 56
        }
      ]
    },
    {
      "cell_type": "code",
      "metadata": {
        "id": "FN8aei2g4Bn9",
        "colab_type": "code",
        "colab": {}
      },
      "source": [
        "#putting the dataset in to the right format to be used by aif360 package\n",
        "data_aif = ad.StandardDataset(data,'two_year_recid',favorable_classes=[1.0],protected_attribute_names=['race'],privileged_classes=[lambda x: x == 1.0])"
      ],
      "execution_count": 0,
      "outputs": []
    },
    {
      "cell_type": "code",
      "metadata": {
        "id": "rKoqiyfa5hz9",
        "colab_type": "code",
        "colab": {}
      },
      "source": [
        "#splitting dataset\n",
        "dataset_train, dataset_vt = data_aif.split([0.8], shuffle=True)\n",
        "dataset_test, dataset_valid = dataset_vt.split([0.5], shuffle=True)\n",
        "\n",
        "#defining that privilged_groups will have value 1 in and unprivilged_groups will have value 0 in race attribute\n",
        "privileged_groups = [{'race': 1}]\n",
        "unprivileged_groups = [{'race': 0}]\n",
        "\n",
        "#metric_orig_train = BinaryLabelDatasetMetric(dataset_train, unprivileged_groups=unprivileged_groups, privileged_groups=privileged_groups)\n",
        "#print(\"Difference in mean outcomes between unprivileged and privileged groups = %f\" % metric_orig_train.mean_difference())"
      ],
      "execution_count": 0,
      "outputs": []
    },
    {
      "cell_type": "code",
      "metadata": {
        "id": "AFfJiT-1QB5M",
        "colab_type": "code",
        "colab": {
          "base_uri": "https://localhost:8080/",
          "height": 91
        },
        "outputId": "07fc973f-ece8-46c1-bf38-0ec50355339f"
      },
      "source": [
        "#Separating attributes from labels\n",
        "xtrain_aif = dataset_train.features\n",
        "ytrain_aif = dataset_train.labels\n",
        "xvalid_aif = dataset_valid.features\n",
        "yvalid_aif = dataset_valid.labels\n",
        "xtest_aif = dataset_test.features\n",
        "ytest_aif = dataset_test.labels\n",
        "\n",
        "#Applying Logistic Regression\n",
        "lmod = LogisticRegression()\n",
        "lmod.fit(xtrain_aif, ytrain_aif)\n",
        "ypredv_aif_before = lmod.predict_proba(xvalid_aif)[:,1]\n",
        "ypredt_aif_before = lmod.predict_proba(xtest_aif)[:,1]\n",
        "\n",
        "#Getting best achievable accuracy with certain threshold \n",
        "num_thresh = 100\n",
        "threshs = np.linspace(0.01,0.99,num_thresh)\n",
        "accuracies = []\n",
        "for i, thresh in enumerate(threshs):\n",
        "  ypredv_label_before = ypredv_aif_before > thresh\n",
        "  ypredv_label_before = ypredv_label_before.reshape((-1,1))\n",
        "  yvalid_aif = yvalid_aif.reshape((-1,1))\n",
        "  num_corr = np.count_nonzero(ypredv_label_before == yvalid_aif)\n",
        "  accuracies = accuracies + [num_corr/ypredv_label_before.shape[0]]\n",
        "\n",
        "acc_argmax = np.argmax(accuracies)\n",
        "best_thresh = threshs[acc_argmax]\n",
        "print('Best classification accuracy on validation set is %.2f%% can be achieved at threshold equal to %.3f' %(accuracies[acc_argmax]*100,best_thresh))"
      ],
      "execution_count": 59,
      "outputs": [
        {
          "output_type": "stream",
          "text": [
            "Best classification accuracy on validation set is 68.56% can be achieved at threshold equal to 0.515\n"
          ],
          "name": "stdout"
        },
        {
          "output_type": "stream",
          "text": [
            "/usr/local/lib/python3.6/dist-packages/sklearn/utils/validation.py:760: DataConversionWarning: A column-vector y was passed when a 1d array was expected. Please change the shape of y to (n_samples, ), for example using ravel().\n",
            "  y = column_or_1d(y, warn=True)\n"
          ],
          "name": "stderr"
        }
      ]
    },
    {
      "cell_type": "code",
      "metadata": {
        "id": "0weoeNRVy2kn",
        "colab_type": "code",
        "colab": {}
      },
      "source": [
        "ROC, dataset_valid_pred = ROC_postprocess(dataset_train,dataset_valid,dataset_test,lmod,unprivileged_groups,privileged_groups)"
      ],
      "execution_count": 0,
      "outputs": []
    },
    {
      "cell_type": "code",
      "metadata": {
        "id": "orTdmHF2FQxZ",
        "colab_type": "code",
        "colab": {
          "base_uri": "https://localhost:8080/",
          "height": 89
        },
        "outputId": "831605aa-59b3-465f-c424-04fd047ffe16"
      },
      "source": [
        "#predicting for test set\n",
        "dataset_test_pred = dataset_test.copy(deepcopy=True)\n",
        "dataset_test_pred.scores = lmod.predict_proba(xtest_aif)[:,1].reshape(-1,1)\n",
        "\n",
        "#putting favourable labels to positive instances\n",
        "fav_inds = dataset_test_pred.scores > best_thresh\n",
        "dataset_test_pred.labels[fav_inds] = dataset_test_pred.favorable_label\n",
        "dataset_test_pred.labels[~fav_inds] = dataset_test_pred.unfavorable_label\n",
        "\n",
        "#Changing labels of test set\n",
        "dataset_test_pred_trans = ROC.predict(dataset_test_pred)\n",
        "ypredt_aif_trans = dataset_test_pred_trans.labels\n",
        "\n",
        "classif_metric_test = ClassificationMetric(dataset_test, dataset_test_pred, unprivileged_groups=unprivileged_groups, privileged_groups=privileged_groups)\n",
        "classif_metric_test_trans = ClassificationMetric(dataset_test, dataset_test_pred_trans, unprivileged_groups=unprivileged_groups, privileged_groups=privileged_groups)\n",
        "\n",
        "#Metrics using package\n",
        "print(\"Accuracy before transformation is %.2f%%\" %(classif_metric_test.accuracy()*100))\n",
        "print(\"Accuracy after transformation is %.2f%%\" %(classif_metric_test_trans.accuracy()*100))\n",
        "print(\"FPR before transformation is %.2f\" %(classif_metric_test.false_positive_rate()))\n",
        "print(\"FPR after transformation is %.3f\" %(classif_metric_test_trans.false_positive_rate()))"
      ],
      "execution_count": 64,
      "outputs": [
        {
          "output_type": "stream",
          "text": [
            "Accuracy before transformation is 69.21%\n",
            "Accuracy after transformation is 59.78%\n",
            "FPR before transformation is 0.21\n",
            "FPR after transformation is 0.007\n"
          ],
          "name": "stdout"
        }
      ]
    },
    {
      "cell_type": "code",
      "metadata": {
        "id": "uYdeN22OG6Ly",
        "colab_type": "code",
        "colab": {
          "base_uri": "https://localhost:8080/",
          "height": 71
        },
        "outputId": "5b478c5b-7858-46e7-d80d-c45baf989fb9"
      },
      "source": [
        "#Calculating new FPRs and accuracies after transformation\n",
        "ypred_trans, ytest_aif = ypredt_aif_trans.reshape((-1,1)), ytest_aif.reshape((-1,1))\n",
        "args_priv, args_unpriv = np.argwhere(xtest_aif[:,1]==1), np.argwhere(xtest_aif[:,1]==0)\n",
        "ypred_priv, ypred_unpriv = ypred_trans[args_priv].reshape((-1,1)), ypred_trans[args_unpriv].reshape((-1,1))\n",
        "ytest_priv, ytest_unpriv = ytest_aif[args_priv].reshape((-1,1)), ytest_aif[args_unpriv].reshape((-1,1))\n",
        "acc_priv, fpr_priv = compute_fpr(ypred_priv,ytest_priv)\n",
        "acc_unpriv, fpr_unpriv = compute_fpr(ypred_unpriv,ytest_unpriv)\n",
        "print(\"Accuracy of Caucasians is %.2f%% and FPR is %.3f\" %(acc_priv*100,fpr_priv))\n",
        "print(\"Accuracy of Non Caucasians is %.2f%% and FPR is %.3f\" %(acc_unpriv*100,fpr_unpriv))\n",
        "\n",
        "acc_trans, fpr_trans = compute_fpr(ypred_trans,ytest_aif)\n",
        "print(\"Overall accuracy is %.2f%% and overall FPR is %.3f\" %(acc_trans*100,fpr_trans)) "
      ],
      "execution_count": 63,
      "outputs": [
        {
          "output_type": "stream",
          "text": [
            "Accuracy of Caucasians is 64.57% and FPR is 0.006\n",
            "Accuracy of Non Caucasians is 57.17% and FPR is 0.008\n",
            "Overall accuracy is 59.78% and overall FPR is 0.007\n"
          ],
          "name": "stdout"
        }
      ]
    },
    {
      "cell_type": "markdown",
      "metadata": {
        "id": "7TI7GkFPMana",
        "colab_type": "text"
      },
      "source": [
        "##(6) Comparisons"
      ]
    },
    {
      "cell_type": "markdown",
      "metadata": {
        "id": "5qBR97DoWWok",
        "colab_type": "text"
      },
      "source": [
        "###Comparing classifiers before applying fairness\n",
        "We compared the performance metrics of the four classifiers we introduced before fairness: \\\\\n",
        "1. KNN classifier was the only classifier that classified non-Caucasians with higher accuracy than Caucasians but on the other hand it was the most unfair classifier with a difference between the FPRs of about 0.16 \n",
        "2. MLP, Logistic Regression and Decision Tree classifiers had FPR differences, of values (0.08,0.08,0.09), less than that of KNN .\n",
        "3. COMPAS classifier had FPR difference of value 0.11 while three of our classifiers got less differences, of average 0.083, as indicated in point(2). We can see that these three classifiers are more fair than COMPAS classifier."
      ]
    },
    {
      "cell_type": "code",
      "metadata": {
        "id": "xlsdDmXuMdPr",
        "colab_type": "code",
        "colab": {
          "base_uri": "https://localhost:8080/",
          "height": 215
        },
        "outputId": "2b11fc3a-fef1-4840-eebc-3c411ac2919f"
      },
      "source": [
        "print(\"Accuracies of the four classifiers are: \")\n",
        "print('Non-Caucasians: %.2f%%, Caucasians: %.2f%% using MLP' %(mlp_acc_dict[0]*100,mlp_acc_dict[1]*100))\n",
        "print('Non-Caucasians: %.2f%%, Caucasians: %.2f%% using KNN' %(knn_acc_dict[0]*100,knn_acc_dict[1]*100))\n",
        "print('Non-Caucasians: %.2f%%, Caucasians: %.2f%% using Logistic Regression' %(lreg_acc_dict[0]*100,lreg_acc_dict[1]*100))\n",
        "print('Non-Caucasians: %.2f%%, Caucasians: %.2f%% using Decision Trees' %(tree_acc_dict[0]*100,tree_acc_dict[1]*100))\n",
        "print(\"\")\n",
        "print(\"FPRs of the four classifiers are: \")\n",
        "print('Non-Caucasians: %.2f, Caucasians: %.2f using MLP' %(mlp_fpr_dict[0],mlp_fpr_dict[1]))\n",
        "print('Non-Caucasians: %.2f, Caucasians: %.2f using KNN' %(knn_fpr_dict[0],knn_fpr_dict[1]))\n",
        "print('Non-Caucasians: %.2f, Caucasians: %.2f using Logistic Regression' %(lreg_fpr_dict[0],lreg_fpr_dict[1]))\n",
        "print('Non-Caucasians: %.2f, Caucasians: %.2f using Decision Trees' %(tree_fpr_dict[0],tree_fpr_dict[1]))"
      ],
      "execution_count": 50,
      "outputs": [
        {
          "output_type": "stream",
          "text": [
            "Accuracies of the four classifiers are: \n",
            "Non-Caucasians: 68.87%, Caucasians: 71.31% using MLP\n",
            "Non-Caucasians: 67.61%, Caucasians: 67.29% using KNN\n",
            "Non-Caucasians: 68.87%, Caucasians: 71.05% using Logistic Regression\n",
            "Non-Caucasians: 67.32%, Caucasians: 69.71% using Decision Trees\n",
            "\n",
            "FPRs of the four classifiers are: \n",
            "Non-Caucasians: 0.26, Caucasians: 0.17 using MLP\n",
            "Non-Caucasians: 0.32, Caucasians: 0.16 using KNN\n",
            "Non-Caucasians: 0.28, Caucasians: 0.20 using Logistic Regression\n",
            "Non-Caucasians: 0.28, Caucasians: 0.19 using Decision Trees\n"
          ],
          "name": "stdout"
        }
      ]
    },
    {
      "cell_type": "markdown",
      "metadata": {
        "id": "r9WiRGz-Y-rI",
        "colab_type": "text"
      },
      "source": [
        "###Comparing Logistic Regression classifier predictions before and after fairness\n",
        "We trained a Logistic Regression model as indicated before. We got its predictions to process it in order to have a fair classifier using Reject Option Classification (ROC) post-processing technique. We calculated the performance metrics for labels before and after applying the technique to see the difference in accuracy and FPR values. \\\\\n",
        "1. The accuracy dropped from 69% to about 61% but the accuracy of Caucasians is more than the accuracy of non-Caucasians.\n",
        "2. The FPR difference between both races dropped from 0.09 to 0.002 which now makes a more fair classifier."
      ]
    },
    {
      "cell_type": "code",
      "metadata": {
        "id": "ldM4T1rgXbHA",
        "colab_type": "code",
        "colab": {
          "base_uri": "https://localhost:8080/",
          "height": 143
        },
        "outputId": "5c53614c-cb45-4e3b-bea2-a32d45e5bf13"
      },
      "source": [
        "print(\"Accuracies of Logistic Regression classifier before and after fairness\")\n",
        "print('Non-Caucasians: %.2f%%, Caucasians: %.2f%% before fairness' %(lreg_acc_dict[0]*100,lreg_acc_dict[1]*100))\n",
        "print('Non-Caucasians: %.2f%%, Caucasians: %.2f%% after fairness' %(acc_unpriv*100,acc_priv*100))\n",
        "print(\"\")\n",
        "print(\"FPRs of Logistic Regression classifier before and after fairness\")\n",
        "print('Non-Caucasians: %.3f, Caucasians: %.3f using Logistic Regression' %(lreg_fpr_dict[0],lreg_fpr_dict[1]))\n",
        "print('Non-Caucasians: %.3f, Caucasians: %.3f after fairness' %(fpr_unpriv,fpr_priv))"
      ],
      "execution_count": 66,
      "outputs": [
        {
          "output_type": "stream",
          "text": [
            "Accuracies of Logistic Regression classifier before and after fairness\n",
            "Non-Caucasians: 68.87%, Caucasians: 71.05% before fairness\n",
            "Non-Caucasians: 57.17%, Caucasians: 64.57% after fairness\n",
            "\n",
            "FPRs of Logistic Regression classifier before and after fairness\n",
            "Non-Caucasians: 0.285, Caucasians: 0.199 using Logistic Regression\n",
            "Non-Caucasians: 0.008, Caucasians: 0.006 after fairness\n"
          ],
          "name": "stdout"
        }
      ]
    },
    {
      "cell_type": "markdown",
      "metadata": {
        "id": "ie3IQZ1QXwSQ",
        "colab_type": "text"
      },
      "source": [
        "##(7) References\n",
        "1. Solon Barocas, Moritz Hardt, and Arvind Narayanan. Fairness and Machine Learning. fairmlbook.org, 2019. http://www.fairmlbook.org\n",
        "2. https://github.com/IBM/AIF360\n",
        "3. https://github.com/propublica/compas-analysis\n",
        "4. https://www.propublica.org/article/how-we-analyzed-the-compas-recidivism-algorithm\n"
      ]
    }
  ]
}